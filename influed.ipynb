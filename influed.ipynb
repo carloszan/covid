{
 "cells": [
  {
   "cell_type": "code",
   "execution_count": 9,
   "metadata": {},
   "outputs": [
    {
     "name": "stderr",
     "output_type": "stream",
     "text": [
      "/tmp/ipykernel_10186/2720694534.py:3: DtypeWarning: Columns (15,59,61,62,63,91,93,105,114,116,117,118,122) have mixed types. Specify dtype option on import or set low_memory=False.\n",
      "  df1 = pd.read_csv('INFLUD20-01-05-2023.csv', sep=';', encoding='utf8')\n",
      "/tmp/ipykernel_10186/2720694534.py:4: DtypeWarning: Columns (15,59,61,62,63,91,93,105,107,114,116,117,118,122,143) have mixed types. Specify dtype option on import or set low_memory=False.\n",
      "  df2 = pd.read_csv('INFLUD21-01-05-2023.csv', sep=';', encoding='utf8')\n"
     ]
    },
    {
     "data": {
      "text/html": [
       "<div>\n",
       "<style scoped>\n",
       "    .dataframe tbody tr th:only-of-type {\n",
       "        vertical-align: middle;\n",
       "    }\n",
       "\n",
       "    .dataframe tbody tr th {\n",
       "        vertical-align: top;\n",
       "    }\n",
       "\n",
       "    .dataframe thead th {\n",
       "        text-align: right;\n",
       "    }\n",
       "</style>\n",
       "<table border=\"1\" class=\"dataframe\">\n",
       "  <thead>\n",
       "    <tr style=\"text-align: right;\">\n",
       "      <th></th>\n",
       "      <th>DT_NOTIFIC</th>\n",
       "      <th>SEM_NOT</th>\n",
       "      <th>DT_SIN_PRI</th>\n",
       "      <th>SEM_PRI</th>\n",
       "      <th>SG_UF_NOT</th>\n",
       "      <th>ID_REGIONA</th>\n",
       "      <th>CO_REGIONA</th>\n",
       "      <th>ID_MUNICIP</th>\n",
       "      <th>CO_MUN_NOT</th>\n",
       "      <th>ID_UNIDADE</th>\n",
       "      <th>...</th>\n",
       "      <th>DOSE_2_COV</th>\n",
       "      <th>DOSE_REF</th>\n",
       "      <th>FAB_COV_1</th>\n",
       "      <th>FAB_COV_2</th>\n",
       "      <th>FAB_COVREF</th>\n",
       "      <th>LOTE_REF</th>\n",
       "      <th>LAB_PR_COV</th>\n",
       "      <th>LOTE_1_COV</th>\n",
       "      <th>LOTE_2_COV</th>\n",
       "      <th>FNT_IN_COV</th>\n",
       "    </tr>\n",
       "  </thead>\n",
       "  <tbody>\n",
       "    <tr>\n",
       "      <th>0</th>\n",
       "      <td>24/01/2020</td>\n",
       "      <td>4</td>\n",
       "      <td>22/01/2020</td>\n",
       "      <td>4</td>\n",
       "      <td>AM</td>\n",
       "      <td>ENTORNO DE MANAUS E RIO NEGRO</td>\n",
       "      <td>5584.0</td>\n",
       "      <td>MANAUS</td>\n",
       "      <td>130260</td>\n",
       "      <td>HOSPITAL E P S DA CRIANCA DA ZONA OESTE</td>\n",
       "      <td>...</td>\n",
       "      <td>NaN</td>\n",
       "      <td>NaN</td>\n",
       "      <td>NaN</td>\n",
       "      <td>NaN</td>\n",
       "      <td>NaN</td>\n",
       "      <td>NaN</td>\n",
       "      <td>NaN</td>\n",
       "      <td>NaN</td>\n",
       "      <td>NaN</td>\n",
       "      <td>NaN</td>\n",
       "    </tr>\n",
       "    <tr>\n",
       "      <th>1</th>\n",
       "      <td>28/02/2020</td>\n",
       "      <td>9</td>\n",
       "      <td>25/02/2020</td>\n",
       "      <td>9</td>\n",
       "      <td>AM</td>\n",
       "      <td>ENTORNO DE MANAUS E RIO NEGRO</td>\n",
       "      <td>5584.0</td>\n",
       "      <td>MANAUS</td>\n",
       "      <td>130260</td>\n",
       "      <td>HOSPITAL E PRONTO SOCORRO DA ZONA NORTE DELPHI...</td>\n",
       "      <td>...</td>\n",
       "      <td>NaN</td>\n",
       "      <td>NaN</td>\n",
       "      <td>NaN</td>\n",
       "      <td>NaN</td>\n",
       "      <td>NaN</td>\n",
       "      <td>NaN</td>\n",
       "      <td>NaN</td>\n",
       "      <td>NaN</td>\n",
       "      <td>NaN</td>\n",
       "      <td>NaN</td>\n",
       "    </tr>\n",
       "    <tr>\n",
       "      <th>2</th>\n",
       "      <td>15/03/2020</td>\n",
       "      <td>12</td>\n",
       "      <td>11/03/2020</td>\n",
       "      <td>11</td>\n",
       "      <td>ES</td>\n",
       "      <td>COLATINA</td>\n",
       "      <td>1509.0</td>\n",
       "      <td>COLATINA</td>\n",
       "      <td>320150</td>\n",
       "      <td>HOSPITAL E MATERNIDADE SILVIO AVIDOS</td>\n",
       "      <td>...</td>\n",
       "      <td>NaN</td>\n",
       "      <td>NaN</td>\n",
       "      <td>NaN</td>\n",
       "      <td>NaN</td>\n",
       "      <td>NaN</td>\n",
       "      <td>NaN</td>\n",
       "      <td>NaN</td>\n",
       "      <td>NaN</td>\n",
       "      <td>NaN</td>\n",
       "      <td>NaN</td>\n",
       "    </tr>\n",
       "    <tr>\n",
       "      <th>3</th>\n",
       "      <td>23/03/2020</td>\n",
       "      <td>13</td>\n",
       "      <td>15/03/2020</td>\n",
       "      <td>12</td>\n",
       "      <td>SP</td>\n",
       "      <td>GVE I CAPITAL</td>\n",
       "      <td>1331.0</td>\n",
       "      <td>SAO PAULO</td>\n",
       "      <td>355030</td>\n",
       "      <td>HOSPITAL SANCTA MAGGIORE</td>\n",
       "      <td>...</td>\n",
       "      <td>NaN</td>\n",
       "      <td>NaN</td>\n",
       "      <td>NaN</td>\n",
       "      <td>NaN</td>\n",
       "      <td>NaN</td>\n",
       "      <td>NaN</td>\n",
       "      <td>NaN</td>\n",
       "      <td>NaN</td>\n",
       "      <td>NaN</td>\n",
       "      <td>NaN</td>\n",
       "    </tr>\n",
       "    <tr>\n",
       "      <th>4</th>\n",
       "      <td>20/03/2020</td>\n",
       "      <td>12</td>\n",
       "      <td>18/03/2020</td>\n",
       "      <td>12</td>\n",
       "      <td>SP</td>\n",
       "      <td>GVE I CAPITAL</td>\n",
       "      <td>1331.0</td>\n",
       "      <td>SAO PAULO</td>\n",
       "      <td>355030</td>\n",
       "      <td>HC DA FMUSP HOSPITAL DAS CLINICAS SAO PAULO</td>\n",
       "      <td>...</td>\n",
       "      <td>NaN</td>\n",
       "      <td>NaN</td>\n",
       "      <td>NaN</td>\n",
       "      <td>NaN</td>\n",
       "      <td>NaN</td>\n",
       "      <td>NaN</td>\n",
       "      <td>NaN</td>\n",
       "      <td>NaN</td>\n",
       "      <td>NaN</td>\n",
       "      <td>NaN</td>\n",
       "    </tr>\n",
       "  </tbody>\n",
       "</table>\n",
       "<p>5 rows × 166 columns</p>\n",
       "</div>"
      ],
      "text/plain": [
       "   DT_NOTIFIC  SEM_NOT  DT_SIN_PRI  SEM_PRI SG_UF_NOT  \\\n",
       "0  24/01/2020        4  22/01/2020        4        AM   \n",
       "1  28/02/2020        9  25/02/2020        9        AM   \n",
       "2  15/03/2020       12  11/03/2020       11        ES   \n",
       "3  23/03/2020       13  15/03/2020       12        SP   \n",
       "4  20/03/2020       12  18/03/2020       12        SP   \n",
       "\n",
       "                      ID_REGIONA  CO_REGIONA ID_MUNICIP  CO_MUN_NOT  \\\n",
       "0  ENTORNO DE MANAUS E RIO NEGRO      5584.0     MANAUS      130260   \n",
       "1  ENTORNO DE MANAUS E RIO NEGRO      5584.0     MANAUS      130260   \n",
       "2                       COLATINA      1509.0   COLATINA      320150   \n",
       "3                  GVE I CAPITAL      1331.0  SAO PAULO      355030   \n",
       "4                  GVE I CAPITAL      1331.0  SAO PAULO      355030   \n",
       "\n",
       "                                          ID_UNIDADE  ...  DOSE_2_COV  \\\n",
       "0            HOSPITAL E P S DA CRIANCA DA ZONA OESTE  ...         NaN   \n",
       "1  HOSPITAL E PRONTO SOCORRO DA ZONA NORTE DELPHI...  ...         NaN   \n",
       "2               HOSPITAL E MATERNIDADE SILVIO AVIDOS  ...         NaN   \n",
       "3                           HOSPITAL SANCTA MAGGIORE  ...         NaN   \n",
       "4        HC DA FMUSP HOSPITAL DAS CLINICAS SAO PAULO  ...         NaN   \n",
       "\n",
       "  DOSE_REF FAB_COV_1  FAB_COV_2  FAB_COVREF LOTE_REF  LAB_PR_COV  LOTE_1_COV  \\\n",
       "0      NaN       NaN        NaN         NaN      NaN         NaN         NaN   \n",
       "1      NaN       NaN        NaN         NaN      NaN         NaN         NaN   \n",
       "2      NaN       NaN        NaN         NaN      NaN         NaN         NaN   \n",
       "3      NaN       NaN        NaN         NaN      NaN         NaN         NaN   \n",
       "4      NaN       NaN        NaN         NaN      NaN         NaN         NaN   \n",
       "\n",
       "   LOTE_2_COV FNT_IN_COV  \n",
       "0         NaN        NaN  \n",
       "1         NaN        NaN  \n",
       "2         NaN        NaN  \n",
       "3         NaN        NaN  \n",
       "4         NaN        NaN  \n",
       "\n",
       "[5 rows x 166 columns]"
      ]
     },
     "execution_count": 9,
     "metadata": {},
     "output_type": "execute_result"
    }
   ],
   "source": [
    "import pandas as pd\n",
    "\n",
    "df1 = pd.read_csv('INFLUD20-01-05-2023.csv', sep=';', encoding='utf8')\n",
    "df2 = pd.read_csv('INFLUD21-01-05-2023.csv', sep=';', encoding='utf8')\n",
    "\n",
    "df = pd.concat([df1, df2])\n",
    "\n",
    "df.head()"
   ]
  },
  {
   "cell_type": "code",
   "execution_count": 10,
   "metadata": {},
   "outputs": [],
   "source": [
    "# Classificacao para covid.\n",
    "df = df[df['CLASSI_FIN'] == 5]\n",
    "\n",
    "\n",
    "# df.to_csv('dani_eh_fodona.csv', index=False)"
   ]
  },
  {
   "cell_type": "code",
   "execution_count": 11,
   "metadata": {},
   "outputs": [
    {
     "name": "stdout",
     "output_type": "stream",
     "text": [
      "       DT_NOTIFIC ID_MUNICIP  casos  casos_acumulados\n",
      "1318   2020-03-31   PARACATU      1                 1\n",
      "5493   2020-04-25   PARACATU      1                 2\n",
      "16176  2020-05-25   PARACATU      2                 4\n",
      "25790  2020-06-15   PARACATU      1                 5\n",
      "26970  2020-06-17   PARACATU      2                 7\n",
      "...           ...        ...    ...               ...\n",
      "332658 2021-12-05   PARACATU      1               911\n",
      "334153 2021-12-14   PARACATU      1               912\n",
      "334337 2021-12-15   PARACATU      1               913\n",
      "334679 2021-12-17   PARACATU      1               914\n",
      "334814 2021-12-18   PARACATU      1               915\n",
      "\n",
      "[324 rows x 4 columns]\n"
     ]
    }
   ],
   "source": [
    "df['casos'] = df.index\n",
    "df['DT_NOTIFIC'] = pd.to_datetime(df['DT_NOTIFIC'], format='%d/%m/%Y')\n",
    "\n",
    "df = df.sort_values(by='DT_NOTIFIC')\n",
    "count_df = df[['DT_NOTIFIC', 'ID_MUNICIP', 'casos']].groupby(by=['DT_NOTIFIC', 'ID_MUNICIP']).count().reset_index()\n",
    "\n",
    "# Somar valores que já vimos\n",
    "count_df['casos_acumulados'] = count_df.groupby(by=['ID_MUNICIP']).casos.cumsum()\n",
    "\n",
    "count_df.sort_values(by=['ID_MUNICIP', 'DT_NOTIFIC'], ascending=True)\n",
    "\n",
    "print(count_df[count_df['ID_MUNICIP'] == 'PARACATU'])"
   ]
  },
  {
   "cell_type": "code",
   "execution_count": 12,
   "metadata": {},
   "outputs": [
    {
     "data": {
      "text/plain": [
       "DT_NOTIFIC          0\n",
       "ID_MUNICIP          0\n",
       "casos               0\n",
       "casos_acumulados    0\n",
       "dtype: int64"
      ]
     },
     "execution_count": 12,
     "metadata": {},
     "output_type": "execute_result"
    }
   ],
   "source": [
    "count_df.isna().sum()"
   ]
  },
  {
   "cell_type": "code",
   "execution_count": 13,
   "metadata": {},
   "outputs": [
    {
     "data": {
      "text/plain": [
       "DT_NOTIFIC          0\n",
       "ID_MUNICIP          0\n",
       "casos               0\n",
       "casos_acumulados    0\n",
       "dtype: int64"
      ]
     },
     "execution_count": 13,
     "metadata": {},
     "output_type": "execute_result"
    }
   ],
   "source": [
    "# preencher os dados vazios como 0.\n",
    "count_df['casos_acumulados'].fillna(0)\n",
    "count_df.isna().sum()"
   ]
  },
  {
   "cell_type": "code",
   "execution_count": 17,
   "metadata": {},
   "outputs": [
    {
     "name": "stdout",
     "output_type": "stream",
     "text": [
      "2020-03-31 00:00:00\n",
      "2020-07-31 00:00:00\n",
      "24\n"
     ]
    },
    {
     "data": {
      "image/png": "[encoded data removed]",
      "text/plain": [
       "<Figure size 640x480 with 1 Axes>"
      ]
     },
     "metadata": {},
     "output_type": "display_data"
    }
   ],
   "source": [
    "paracatu_df = count_df[count_df['ID_MUNICIP'] == 'PARACATU']\n",
    "paracatu_df = paracatu_df[paracatu_df['DT_NOTIFIC'] < '2020-08-01']\n",
    "paracatu_df.plot(x='DT_NOTIFIC', y='casos_acumulados')\n",
    "print(min(paracatu_df['DT_NOTIFIC']))\n",
    "print(max(paracatu_df['DT_NOTIFIC']))\n",
    "print(max(paracatu_df['casos_acumulados']))"
   ]
  }
 ],
 "metadata": {
  "kernelspec": {
   "display_name": "venv",
   "language": "python",
   "name": "python3"
  },
  "language_info": {
   "codemirror_mode": {
    "name": "ipython",
    "version": 3
   },
   "file_extension": ".py",
   "mimetype": "text/x-python",
   "name": "python",
   "nbconvert_exporter": "python",
   "pygments_lexer": "ipython3",
   "version": "3.12.7"
  }
 },
 "nbformat": 4,
 "nbformat_minor": 2
}
