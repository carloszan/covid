{
 "cells": [
  {
   "cell_type": "markdown",
   "id": "f7a2f82d",
   "metadata": {},
   "source": [
    "# Engenharia de Atributos"
   ]
  },
  {
   "cell_type": "code",
   "execution_count": 56,
   "id": "e36c6c10",
   "metadata": {},
   "outputs": [],
   "source": [
    "import logging\n",
    "\n",
    "logging.basicConfig(\n",
    "    level=logging.INFO,\n",
    "    format='%(asctime)s - %(levelname)s - %(message)s',\n",
    "    datefmt='%Y-%m-%d %H:%M:%S'\n",
    ")"
   ]
  },
  {
   "cell_type": "code",
   "execution_count": 57,
   "id": "6e2d1078",
   "metadata": {},
   "outputs": [],
   "source": [
    "import pandas as pd\n",
    "\n",
    "nome_arquivo = f'2.atributos.parquet'\n",
    "df = pd.read_parquet(nome_arquivo)\n",
    "df = df[:100000]"
   ]
  },
  {
   "cell_type": "code",
   "execution_count": 58,
   "id": "1de512b4",
   "metadata": {},
   "outputs": [
    {
     "data": {
      "application/vnd.microsoft.datawrangler.viewer.v0+json": {
       "columns": [
        {
         "name": "index",
         "rawType": "int64",
         "type": "integer"
        },
        {
         "name": "regiao",
         "rawType": "object",
         "type": "string"
        },
        {
         "name": "estado",
         "rawType": "object",
         "type": "string"
        },
        {
         "name": "municipio",
         "rawType": "object",
         "type": "string"
        },
        {
         "name": "coduf",
         "rawType": "int64",
         "type": "integer"
        },
        {
         "name": "codmun",
         "rawType": "float64",
         "type": "float"
        },
        {
         "name": "cod_regiao_saude",
         "rawType": "float64",
         "type": "float"
        },
        {
         "name": "nome_regiao_saude",
         "rawType": "object",
         "type": "string"
        },
        {
         "name": "data",
         "rawType": "datetime64[ms]",
         "type": "unknown"
        },
        {
         "name": "semana_epi",
         "rawType": "int64",
         "type": "integer"
        },
        {
         "name": "populacao_tcu_2019",
         "rawType": "float64",
         "type": "float"
        },
        {
         "name": "casos_acumulados",
         "rawType": "float64",
         "type": "float"
        },
        {
         "name": "casos_novos",
         "rawType": "int64",
         "type": "integer"
        },
        {
         "name": "obitos_acumulados",
         "rawType": "int64",
         "type": "integer"
        },
        {
         "name": "obitos_novos",
         "rawType": "int64",
         "type": "integer"
        },
        {
         "name": "interior_metropolitana",
         "rawType": "float64",
         "type": "float"
        },
        {
         "name": "novos_casos_novos",
         "rawType": "int64",
         "type": "integer"
        },
        {
         "name": "novos_casos_acumulados",
         "rawType": "int64",
         "type": "integer"
        },
        {
         "name": "ano",
         "rawType": "int32",
         "type": "integer"
        },
        {
         "name": "mes",
         "rawType": "object",
         "type": "string"
        },
        {
         "name": "mes_numerico",
         "rawType": "int32",
         "type": "integer"
        },
        {
         "name": "mes_traduzido",
         "rawType": "object",
         "type": "string"
        },
        {
         "name": "dia_semana",
         "rawType": "object",
         "type": "string"
        },
        {
         "name": "dia_semana_traduzido",
         "rawType": "object",
         "type": "string"
        },
        {
         "name": "dia_semana_numerico",
         "rawType": "int32",
         "type": "integer"
        },
        {
         "name": "estacao",
         "rawType": "object",
         "type": "string"
        }
       ],
       "ref": "0e6e7db9-9301-4811-ae65-3ef6dbe107e9",
       "rows": [
        [
         "0",
         "Centro-Oeste",
         "GO",
         "Abadia de Goiás",
         "52",
         "520005.0",
         "52001.0",
         "CENTRAL",
         "2020-03-27 00:00:00",
         "13",
         "8773.0",
         "0.0",
         "0",
         "0",
         "0",
         "1.0",
         "0",
         "0",
         "2020",
         "March",
         "3",
         "Março",
         "Friday",
         "Sexta-feira",
         "4",
         "Outono"
        ],
        [
         "1",
         "Centro-Oeste",
         "GO",
         "Abadia de Goiás",
         "52",
         "520005.0",
         "52001.0",
         "CENTRAL",
         "2020-03-28 00:00:00",
         "13",
         "8773.0",
         "0.0",
         "0",
         "0",
         "0",
         "1.0",
         "0",
         "0",
         "2020",
         "March",
         "3",
         "Março",
         "Saturday",
         "Sábado",
         "5",
         "Outono"
        ],
        [
         "2",
         "Centro-Oeste",
         "GO",
         "Abadia de Goiás",
         "52",
         "520005.0",
         "52001.0",
         "CENTRAL",
         "2020-03-29 00:00:00",
         "14",
         "8773.0",
         "0.0",
         "0",
         "0",
         "0",
         "1.0",
         "0",
         "0",
         "2020",
         "March",
         "3",
         "Março",
         "Sunday",
         "Domingo",
         "6",
         "Outono"
        ],
        [
         "3",
         "Centro-Oeste",
         "GO",
         "Abadia de Goiás",
         "52",
         "520005.0",
         "52001.0",
         "CENTRAL",
         "2020-03-30 00:00:00",
         "14",
         "8773.0",
         "0.0",
         "0",
         "0",
         "0",
         "1.0",
         "0",
         "0",
         "2020",
         "March",
         "3",
         "Março",
         "Monday",
         "Segunda-feira",
         "0",
         "Outono"
        ],
        [
         "4",
         "Centro-Oeste",
         "GO",
         "Abadia de Goiás",
         "52",
         "520005.0",
         "52001.0",
         "CENTRAL",
         "2020-03-31 00:00:00",
         "14",
         "8773.0",
         "0.0",
         "0",
         "0",
         "0",
         "1.0",
         "0",
         "0",
         "2020",
         "March",
         "3",
         "Março",
         "Tuesday",
         "Terça-feira",
         "1",
         "Outono"
        ]
       ],
       "shape": {
        "columns": 25,
        "rows": 5
       }
      },
      "text/html": [
       "<div>\n",
       "<style scoped>\n",
       "    .dataframe tbody tr th:only-of-type {\n",
       "        vertical-align: middle;\n",
       "    }\n",
       "\n",
       "    .dataframe tbody tr th {\n",
       "        vertical-align: top;\n",
       "    }\n",
       "\n",
       "    .dataframe thead th {\n",
       "        text-align: right;\n",
       "    }\n",
       "</style>\n",
       "<table border=\"1\" class=\"dataframe\">\n",
       "  <thead>\n",
       "    <tr style=\"text-align: right;\">\n",
       "      <th></th>\n",
       "      <th>regiao</th>\n",
       "      <th>estado</th>\n",
       "      <th>municipio</th>\n",
       "      <th>coduf</th>\n",
       "      <th>codmun</th>\n",
       "      <th>cod_regiao_saude</th>\n",
       "      <th>nome_regiao_saude</th>\n",
       "      <th>data</th>\n",
       "      <th>semana_epi</th>\n",
       "      <th>populacao_tcu_2019</th>\n",
       "      <th>...</th>\n",
       "      <th>novos_casos_novos</th>\n",
       "      <th>novos_casos_acumulados</th>\n",
       "      <th>ano</th>\n",
       "      <th>mes</th>\n",
       "      <th>mes_numerico</th>\n",
       "      <th>mes_traduzido</th>\n",
       "      <th>dia_semana</th>\n",
       "      <th>dia_semana_traduzido</th>\n",
       "      <th>dia_semana_numerico</th>\n",
       "      <th>estacao</th>\n",
       "    </tr>\n",
       "  </thead>\n",
       "  <tbody>\n",
       "    <tr>\n",
       "      <th>0</th>\n",
       "      <td>Centro-Oeste</td>\n",
       "      <td>GO</td>\n",
       "      <td>Abadia de Goiás</td>\n",
       "      <td>52</td>\n",
       "      <td>520005.0</td>\n",
       "      <td>52001.0</td>\n",
       "      <td>CENTRAL</td>\n",
       "      <td>2020-03-27</td>\n",
       "      <td>13</td>\n",
       "      <td>8773.0</td>\n",
       "      <td>...</td>\n",
       "      <td>0</td>\n",
       "      <td>0</td>\n",
       "      <td>2020</td>\n",
       "      <td>March</td>\n",
       "      <td>3</td>\n",
       "      <td>Março</td>\n",
       "      <td>Friday</td>\n",
       "      <td>Sexta-feira</td>\n",
       "      <td>4</td>\n",
       "      <td>Outono</td>\n",
       "    </tr>\n",
       "    <tr>\n",
       "      <th>1</th>\n",
       "      <td>Centro-Oeste</td>\n",
       "      <td>GO</td>\n",
       "      <td>Abadia de Goiás</td>\n",
       "      <td>52</td>\n",
       "      <td>520005.0</td>\n",
       "      <td>52001.0</td>\n",
       "      <td>CENTRAL</td>\n",
       "      <td>2020-03-28</td>\n",
       "      <td>13</td>\n",
       "      <td>8773.0</td>\n",
       "      <td>...</td>\n",
       "      <td>0</td>\n",
       "      <td>0</td>\n",
       "      <td>2020</td>\n",
       "      <td>March</td>\n",
       "      <td>3</td>\n",
       "      <td>Março</td>\n",
       "      <td>Saturday</td>\n",
       "      <td>Sábado</td>\n",
       "      <td>5</td>\n",
       "      <td>Outono</td>\n",
       "    </tr>\n",
       "    <tr>\n",
       "      <th>2</th>\n",
       "      <td>Centro-Oeste</td>\n",
       "      <td>GO</td>\n",
       "      <td>Abadia de Goiás</td>\n",
       "      <td>52</td>\n",
       "      <td>520005.0</td>\n",
       "      <td>52001.0</td>\n",
       "      <td>CENTRAL</td>\n",
       "      <td>2020-03-29</td>\n",
       "      <td>14</td>\n",
       "      <td>8773.0</td>\n",
       "      <td>...</td>\n",
       "      <td>0</td>\n",
       "      <td>0</td>\n",
       "      <td>2020</td>\n",
       "      <td>March</td>\n",
       "      <td>3</td>\n",
       "      <td>Março</td>\n",
       "      <td>Sunday</td>\n",
       "      <td>Domingo</td>\n",
       "      <td>6</td>\n",
       "      <td>Outono</td>\n",
       "    </tr>\n",
       "    <tr>\n",
       "      <th>3</th>\n",
       "      <td>Centro-Oeste</td>\n",
       "      <td>GO</td>\n",
       "      <td>Abadia de Goiás</td>\n",
       "      <td>52</td>\n",
       "      <td>520005.0</td>\n",
       "      <td>52001.0</td>\n",
       "      <td>CENTRAL</td>\n",
       "      <td>2020-03-30</td>\n",
       "      <td>14</td>\n",
       "      <td>8773.0</td>\n",
       "      <td>...</td>\n",
       "      <td>0</td>\n",
       "      <td>0</td>\n",
       "      <td>2020</td>\n",
       "      <td>March</td>\n",
       "      <td>3</td>\n",
       "      <td>Março</td>\n",
       "      <td>Monday</td>\n",
       "      <td>Segunda-feira</td>\n",
       "      <td>0</td>\n",
       "      <td>Outono</td>\n",
       "    </tr>\n",
       "    <tr>\n",
       "      <th>4</th>\n",
       "      <td>Centro-Oeste</td>\n",
       "      <td>GO</td>\n",
       "      <td>Abadia de Goiás</td>\n",
       "      <td>52</td>\n",
       "      <td>520005.0</td>\n",
       "      <td>52001.0</td>\n",
       "      <td>CENTRAL</td>\n",
       "      <td>2020-03-31</td>\n",
       "      <td>14</td>\n",
       "      <td>8773.0</td>\n",
       "      <td>...</td>\n",
       "      <td>0</td>\n",
       "      <td>0</td>\n",
       "      <td>2020</td>\n",
       "      <td>March</td>\n",
       "      <td>3</td>\n",
       "      <td>Março</td>\n",
       "      <td>Tuesday</td>\n",
       "      <td>Terça-feira</td>\n",
       "      <td>1</td>\n",
       "      <td>Outono</td>\n",
       "    </tr>\n",
       "  </tbody>\n",
       "</table>\n",
       "<p>5 rows × 25 columns</p>\n",
       "</div>"
      ],
      "text/plain": [
       "         regiao estado        municipio  coduf    codmun  cod_regiao_saude  \\\n",
       "0  Centro-Oeste     GO  Abadia de Goiás     52  520005.0           52001.0   \n",
       "1  Centro-Oeste     GO  Abadia de Goiás     52  520005.0           52001.0   \n",
       "2  Centro-Oeste     GO  Abadia de Goiás     52  520005.0           52001.0   \n",
       "3  Centro-Oeste     GO  Abadia de Goiás     52  520005.0           52001.0   \n",
       "4  Centro-Oeste     GO  Abadia de Goiás     52  520005.0           52001.0   \n",
       "\n",
       "  nome_regiao_saude       data  semana_epi  populacao_tcu_2019  ...  \\\n",
       "0           CENTRAL 2020-03-27          13              8773.0  ...   \n",
       "1           CENTRAL 2020-03-28          13              8773.0  ...   \n",
       "2           CENTRAL 2020-03-29          14              8773.0  ...   \n",
       "3           CENTRAL 2020-03-30          14              8773.0  ...   \n",
       "4           CENTRAL 2020-03-31          14              8773.0  ...   \n",
       "\n",
       "   novos_casos_novos  novos_casos_acumulados   ano    mes  mes_numerico  \\\n",
       "0                  0                       0  2020  March             3   \n",
       "1                  0                       0  2020  March             3   \n",
       "2                  0                       0  2020  March             3   \n",
       "3                  0                       0  2020  March             3   \n",
       "4                  0                       0  2020  March             3   \n",
       "\n",
       "   mes_traduzido  dia_semana  dia_semana_traduzido dia_semana_numerico  \\\n",
       "0          Março      Friday           Sexta-feira                   4   \n",
       "1          Março    Saturday                Sábado                   5   \n",
       "2          Março      Sunday               Domingo                   6   \n",
       "3          Março      Monday         Segunda-feira                   0   \n",
       "4          Março     Tuesday           Terça-feira                   1   \n",
       "\n",
       "   estacao  \n",
       "0   Outono  \n",
       "1   Outono  \n",
       "2   Outono  \n",
       "3   Outono  \n",
       "4   Outono  \n",
       "\n",
       "[5 rows x 25 columns]"
      ]
     },
     "execution_count": 58,
     "metadata": {},
     "output_type": "execute_result"
    }
   ],
   "source": [
    "df.head(5)"
   ]
  },
  {
   "cell_type": "code",
   "execution_count": 59,
   "id": "1dcbe796",
   "metadata": {},
   "outputs": [],
   "source": [
    "from sklearn.preprocessing import LabelEncoder\n",
    "\n",
    "# Initialize label encoder\n",
    "le = LabelEncoder()\n",
    "\n",
    "# Columns to encode\n",
    "cols_to_encode = ['regiao', 'estado', 'municipio', 'nome_regiao_saude', 'estacao']\n",
    "\n",
    "# Apply label encoding to each column\n",
    "for col in cols_to_encode:\n",
    "    df[col] = le.fit_transform(df[col])"
   ]
  },
  {
   "cell_type": "code",
   "execution_count": 60,
   "id": "0aa4fda4",
   "metadata": {},
   "outputs": [
    {
     "data": {
      "application/vnd.microsoft.datawrangler.viewer.v0+json": {
       "columns": [
        {
         "name": "index",
         "rawType": "int64",
         "type": "integer"
        },
        {
         "name": "regiao",
         "rawType": "int64",
         "type": "integer"
        },
        {
         "name": "estado",
         "rawType": "int64",
         "type": "integer"
        },
        {
         "name": "municipio",
         "rawType": "int64",
         "type": "integer"
        },
        {
         "name": "coduf",
         "rawType": "int64",
         "type": "integer"
        },
        {
         "name": "codmun",
         "rawType": "float64",
         "type": "float"
        },
        {
         "name": "cod_regiao_saude",
         "rawType": "float64",
         "type": "float"
        },
        {
         "name": "nome_regiao_saude",
         "rawType": "int64",
         "type": "integer"
        },
        {
         "name": "data",
         "rawType": "datetime64[ms]",
         "type": "unknown"
        },
        {
         "name": "semana_epi",
         "rawType": "int64",
         "type": "integer"
        },
        {
         "name": "populacao_tcu_2019",
         "rawType": "float64",
         "type": "float"
        },
        {
         "name": "casos_acumulados",
         "rawType": "float64",
         "type": "float"
        },
        {
         "name": "casos_novos",
         "rawType": "int64",
         "type": "integer"
        },
        {
         "name": "obitos_acumulados",
         "rawType": "int64",
         "type": "integer"
        },
        {
         "name": "obitos_novos",
         "rawType": "int64",
         "type": "integer"
        },
        {
         "name": "interior_metropolitana",
         "rawType": "float64",
         "type": "float"
        },
        {
         "name": "novos_casos_novos",
         "rawType": "int64",
         "type": "integer"
        },
        {
         "name": "novos_casos_acumulados",
         "rawType": "int64",
         "type": "integer"
        },
        {
         "name": "ano",
         "rawType": "int32",
         "type": "integer"
        },
        {
         "name": "mes",
         "rawType": "object",
         "type": "string"
        },
        {
         "name": "mes_numerico",
         "rawType": "int32",
         "type": "integer"
        },
        {
         "name": "mes_traduzido",
         "rawType": "object",
         "type": "string"
        },
        {
         "name": "dia_semana",
         "rawType": "object",
         "type": "string"
        },
        {
         "name": "dia_semana_traduzido",
         "rawType": "object",
         "type": "string"
        },
        {
         "name": "dia_semana_numerico",
         "rawType": "int32",
         "type": "integer"
        },
        {
         "name": "estacao",
         "rawType": "int64",
         "type": "integer"
        }
       ],
       "ref": "d62864f4-ee81-48e9-bb15-d697d58c54f7",
       "rows": [
        [
         "0",
         "0",
         "4",
         "0",
         "52",
         "520005.0",
         "52001.0",
         "23",
         "2020-03-27 00:00:00",
         "13",
         "8773.0",
         "0.0",
         "0",
         "0",
         "0",
         "1.0",
         "0",
         "0",
         "2020",
         "March",
         "3",
         "Março",
         "Friday",
         "Sexta-feira",
         "4",
         "1"
        ],
        [
         "1",
         "0",
         "4",
         "0",
         "52",
         "520005.0",
         "52001.0",
         "23",
         "2020-03-28 00:00:00",
         "13",
         "8773.0",
         "0.0",
         "0",
         "0",
         "0",
         "1.0",
         "0",
         "0",
         "2020",
         "March",
         "3",
         "Março",
         "Saturday",
         "Sábado",
         "5",
         "1"
        ],
        [
         "2",
         "0",
         "4",
         "0",
         "52",
         "520005.0",
         "52001.0",
         "23",
         "2020-03-29 00:00:00",
         "14",
         "8773.0",
         "0.0",
         "0",
         "0",
         "0",
         "1.0",
         "0",
         "0",
         "2020",
         "March",
         "3",
         "Março",
         "Sunday",
         "Domingo",
         "6",
         "1"
        ],
        [
         "3",
         "0",
         "4",
         "0",
         "52",
         "520005.0",
         "52001.0",
         "23",
         "2020-03-30 00:00:00",
         "14",
         "8773.0",
         "0.0",
         "0",
         "0",
         "0",
         "1.0",
         "0",
         "0",
         "2020",
         "March",
         "3",
         "Março",
         "Monday",
         "Segunda-feira",
         "0",
         "1"
        ],
        [
         "4",
         "0",
         "4",
         "0",
         "52",
         "520005.0",
         "52001.0",
         "23",
         "2020-03-31 00:00:00",
         "14",
         "8773.0",
         "0.0",
         "0",
         "0",
         "0",
         "1.0",
         "0",
         "0",
         "2020",
         "March",
         "3",
         "Março",
         "Tuesday",
         "Terça-feira",
         "1",
         "1"
        ]
       ],
       "shape": {
        "columns": 25,
        "rows": 5
       }
      },
      "text/html": [
       "<div>\n",
       "<style scoped>\n",
       "    .dataframe tbody tr th:only-of-type {\n",
       "        vertical-align: middle;\n",
       "    }\n",
       "\n",
       "    .dataframe tbody tr th {\n",
       "        vertical-align: top;\n",
       "    }\n",
       "\n",
       "    .dataframe thead th {\n",
       "        text-align: right;\n",
       "    }\n",
       "</style>\n",
       "<table border=\"1\" class=\"dataframe\">\n",
       "  <thead>\n",
       "    <tr style=\"text-align: right;\">\n",
       "      <th></th>\n",
       "      <th>regiao</th>\n",
       "      <th>estado</th>\n",
       "      <th>municipio</th>\n",
       "      <th>coduf</th>\n",
       "      <th>codmun</th>\n",
       "      <th>cod_regiao_saude</th>\n",
       "      <th>nome_regiao_saude</th>\n",
       "      <th>data</th>\n",
       "      <th>semana_epi</th>\n",
       "      <th>populacao_tcu_2019</th>\n",
       "      <th>...</th>\n",
       "      <th>novos_casos_novos</th>\n",
       "      <th>novos_casos_acumulados</th>\n",
       "      <th>ano</th>\n",
       "      <th>mes</th>\n",
       "      <th>mes_numerico</th>\n",
       "      <th>mes_traduzido</th>\n",
       "      <th>dia_semana</th>\n",
       "      <th>dia_semana_traduzido</th>\n",
       "      <th>dia_semana_numerico</th>\n",
       "      <th>estacao</th>\n",
       "    </tr>\n",
       "  </thead>\n",
       "  <tbody>\n",
       "    <tr>\n",
       "      <th>0</th>\n",
       "      <td>0</td>\n",
       "      <td>4</td>\n",
       "      <td>0</td>\n",
       "      <td>52</td>\n",
       "      <td>520005.0</td>\n",
       "      <td>52001.0</td>\n",
       "      <td>23</td>\n",
       "      <td>2020-03-27</td>\n",
       "      <td>13</td>\n",
       "      <td>8773.0</td>\n",
       "      <td>...</td>\n",
       "      <td>0</td>\n",
       "      <td>0</td>\n",
       "      <td>2020</td>\n",
       "      <td>March</td>\n",
       "      <td>3</td>\n",
       "      <td>Março</td>\n",
       "      <td>Friday</td>\n",
       "      <td>Sexta-feira</td>\n",
       "      <td>4</td>\n",
       "      <td>1</td>\n",
       "    </tr>\n",
       "    <tr>\n",
       "      <th>1</th>\n",
       "      <td>0</td>\n",
       "      <td>4</td>\n",
       "      <td>0</td>\n",
       "      <td>52</td>\n",
       "      <td>520005.0</td>\n",
       "      <td>52001.0</td>\n",
       "      <td>23</td>\n",
       "      <td>2020-03-28</td>\n",
       "      <td>13</td>\n",
       "      <td>8773.0</td>\n",
       "      <td>...</td>\n",
       "      <td>0</td>\n",
       "      <td>0</td>\n",
       "      <td>2020</td>\n",
       "      <td>March</td>\n",
       "      <td>3</td>\n",
       "      <td>Março</td>\n",
       "      <td>Saturday</td>\n",
       "      <td>Sábado</td>\n",
       "      <td>5</td>\n",
       "      <td>1</td>\n",
       "    </tr>\n",
       "    <tr>\n",
       "      <th>2</th>\n",
       "      <td>0</td>\n",
       "      <td>4</td>\n",
       "      <td>0</td>\n",
       "      <td>52</td>\n",
       "      <td>520005.0</td>\n",
       "      <td>52001.0</td>\n",
       "      <td>23</td>\n",
       "      <td>2020-03-29</td>\n",
       "      <td>14</td>\n",
       "      <td>8773.0</td>\n",
       "      <td>...</td>\n",
       "      <td>0</td>\n",
       "      <td>0</td>\n",
       "      <td>2020</td>\n",
       "      <td>March</td>\n",
       "      <td>3</td>\n",
       "      <td>Março</td>\n",
       "      <td>Sunday</td>\n",
       "      <td>Domingo</td>\n",
       "      <td>6</td>\n",
       "      <td>1</td>\n",
       "    </tr>\n",
       "    <tr>\n",
       "      <th>3</th>\n",
       "      <td>0</td>\n",
       "      <td>4</td>\n",
       "      <td>0</td>\n",
       "      <td>52</td>\n",
       "      <td>520005.0</td>\n",
       "      <td>52001.0</td>\n",
       "      <td>23</td>\n",
       "      <td>2020-03-30</td>\n",
       "      <td>14</td>\n",
       "      <td>8773.0</td>\n",
       "      <td>...</td>\n",
       "      <td>0</td>\n",
       "      <td>0</td>\n",
       "      <td>2020</td>\n",
       "      <td>March</td>\n",
       "      <td>3</td>\n",
       "      <td>Março</td>\n",
       "      <td>Monday</td>\n",
       "      <td>Segunda-feira</td>\n",
       "      <td>0</td>\n",
       "      <td>1</td>\n",
       "    </tr>\n",
       "    <tr>\n",
       "      <th>4</th>\n",
       "      <td>0</td>\n",
       "      <td>4</td>\n",
       "      <td>0</td>\n",
       "      <td>52</td>\n",
       "      <td>520005.0</td>\n",
       "      <td>52001.0</td>\n",
       "      <td>23</td>\n",
       "      <td>2020-03-31</td>\n",
       "      <td>14</td>\n",
       "      <td>8773.0</td>\n",
       "      <td>...</td>\n",
       "      <td>0</td>\n",
       "      <td>0</td>\n",
       "      <td>2020</td>\n",
       "      <td>March</td>\n",
       "      <td>3</td>\n",
       "      <td>Março</td>\n",
       "      <td>Tuesday</td>\n",
       "      <td>Terça-feira</td>\n",
       "      <td>1</td>\n",
       "      <td>1</td>\n",
       "    </tr>\n",
       "  </tbody>\n",
       "</table>\n",
       "<p>5 rows × 25 columns</p>\n",
       "</div>"
      ],
      "text/plain": [
       "   regiao  estado  municipio  coduf    codmun  cod_regiao_saude  \\\n",
       "0       0       4          0     52  520005.0           52001.0   \n",
       "1       0       4          0     52  520005.0           52001.0   \n",
       "2       0       4          0     52  520005.0           52001.0   \n",
       "3       0       4          0     52  520005.0           52001.0   \n",
       "4       0       4          0     52  520005.0           52001.0   \n",
       "\n",
       "   nome_regiao_saude       data  semana_epi  populacao_tcu_2019  ...  \\\n",
       "0                 23 2020-03-27          13              8773.0  ...   \n",
       "1                 23 2020-03-28          13              8773.0  ...   \n",
       "2                 23 2020-03-29          14              8773.0  ...   \n",
       "3                 23 2020-03-30          14              8773.0  ...   \n",
       "4                 23 2020-03-31          14              8773.0  ...   \n",
       "\n",
       "   novos_casos_novos  novos_casos_acumulados   ano    mes  mes_numerico  \\\n",
       "0                  0                       0  2020  March             3   \n",
       "1                  0                       0  2020  March             3   \n",
       "2                  0                       0  2020  March             3   \n",
       "3                  0                       0  2020  March             3   \n",
       "4                  0                       0  2020  March             3   \n",
       "\n",
       "   mes_traduzido  dia_semana  dia_semana_traduzido dia_semana_numerico  \\\n",
       "0          Março      Friday           Sexta-feira                   4   \n",
       "1          Março    Saturday                Sábado                   5   \n",
       "2          Março      Sunday               Domingo                   6   \n",
       "3          Março      Monday         Segunda-feira                   0   \n",
       "4          Março     Tuesday           Terça-feira                   1   \n",
       "\n",
       "   estacao  \n",
       "0        1  \n",
       "1        1  \n",
       "2        1  \n",
       "3        1  \n",
       "4        1  \n",
       "\n",
       "[5 rows x 25 columns]"
      ]
     },
     "execution_count": 60,
     "metadata": {},
     "output_type": "execute_result"
    }
   ],
   "source": [
    "df.head(5)"
   ]
  },
  {
   "cell_type": "code",
   "execution_count": 61,
   "id": "27e4655c",
   "metadata": {},
   "outputs": [],
   "source": [
    "df = df.drop(columns=['mes', 'mes_traduzido', 'dia_semana', 'dia_semana_traduzido', 'casos_novos', 'casos_acumulados', 'coduf', 'codmun', 'cod_regiao_saude', 'nome_regiao_saude'])"
   ]
  },
  {
   "cell_type": "code",
   "execution_count": 62,
   "id": "de63fbc7",
   "metadata": {},
   "outputs": [
    {
     "data": {
      "text/plain": [
       "<Axes: >"
      ]
     },
     "execution_count": 62,
     "metadata": {},
     "output_type": "execute_result"
    },
    {
     "data": {
      "image/png": "[encoded data removed]",
      "text/plain": [
       "<Figure size 640x480 with 2 Axes>"
      ]
     },
     "metadata": {},
     "output_type": "display_data"
    }
   ],
   "source": [
    "from seaborn import heatmap\n",
    "\n",
    "heatmap(df.corr())"
   ]
  },
  {
   "cell_type": "code",
   "execution_count": 63,
   "id": "5e9ceb01",
   "metadata": {},
   "outputs": [],
   "source": [
    "def _adicionar_lag_features(df):\n",
    "    df[\"novos_casos_novos_lag_1\"] = df['novos_casos_novos'].shift(1)\n",
    "    df[\"obitos_novos_lag_1\"] = df['obitos_novos'].shift(1)\n",
    "\n",
    "    df[\"novos_casos_novos_lag_7\"] = df['novos_casos_novos'].shift(7)\n",
    "    df[\"obitos_novos_lag_7\"] = df['obitos_novos'].shift(7)\n",
    "\n",
    "    df[\"novos_casos_novos_lag_14\"] = df['novos_casos_novos'].shift(14)\n",
    "    df[\"obitos_novos_lag_14\"] = df['obitos_novos'].shift(14)\n",
    "\n",
    "    return df\n",
    "\n",
    "def _adicionar_media_movel_7(df):\n",
    "    df['novos_casos_novos_media_movel_7'] = df['novos_casos_novos'].transform(lambda x: x.shift(1).rolling(7).mean())\n",
    "    df['obitos_novos_media_movel_7'] = df['obitos_novos'].transform(lambda x: x.shift(1).rolling(7).mean())\n",
    "\n",
    "    return df"
   ]
  },
  {
   "cell_type": "code",
   "execution_count": 64,
   "id": "0f099123",
   "metadata": {},
   "outputs": [],
   "source": [
    "def _rodar_engenharia_de_atributos(df):\n",
    "    df = _adicionar_lag_features(df)\n",
    "    df = _adicionar_media_movel_7(df)\n",
    "\n",
    "    return df"
   ]
  },
  {
   "cell_type": "code",
   "execution_count": 65,
   "id": "d4825155",
   "metadata": {},
   "outputs": [],
   "source": [
    "from tqdm import tqdm\n",
    "\n",
    "def _processar(df):\n",
    "    logging.info(\"Processando municipios_unicos\")\n",
    "    municipios_unicos = set(zip(df['municipio'], df['estado']))\n",
    "    logging.info(\"Processamento concluído\")\n",
    "\n",
    "    logging.info(\"Filtrando o dataframe \")\n",
    "    mascara = df.apply(lambda x: (\n",
    "        x['municipio'], x['estado']) in municipios_unicos, axis=1)\n",
    "    filtrado_df = df[mascara]\n",
    "    logging.info(\"Processamento concluído\")\n",
    "\n",
    "    logging.info(\"Processando grupos\")\n",
    "    agrupado = filtrado_df.groupby(['municipio', 'estado'])\n",
    "    logging.info(\"Processamento concluído\")\n",
    "\n",
    "    resultado_df = []\n",
    "\n",
    "    for (municipio, estado), group_df in tqdm(agrupado, desc=\"Processando\"):\n",
    "        try:\n",
    "            group_df = group_df.sort_values(by='data')\n",
    "            resultado_df.append(_rodar_engenharia_de_atributos(group_df))\n",
    "        except Exception as e:\n",
    "            logging.error(f\"{estado}_{municipio} não foi salvo\")\n",
    "            logging.error(e)\n",
    "\n",
    "    resultado_df = pd.concat(resultado_df)\n",
    "    return resultado_df"
   ]
  },
  {
   "cell_type": "code",
   "execution_count": 66,
   "id": "157c2095",
   "metadata": {},
   "outputs": [
    {
     "name": "stderr",
     "output_type": "stream",
     "text": [
      "2025-05-29 18:15:01 - INFO - Processando municipios_unicos\n",
      "2025-05-29 18:15:01 - INFO - Processamento concluído\n",
      "2025-05-29 18:15:01 - INFO - Filtrando o dataframe \n",
      "2025-05-29 18:15:02 - INFO - Processamento concluído\n",
      "2025-05-29 18:15:02 - INFO - Processando grupos\n",
      "2025-05-29 18:15:02 - INFO - Processamento concluído\n",
      "Processando: 100%|██████████| 55/55 [00:00<00:00, 279.86it/s]\n"
     ]
    }
   ],
   "source": [
    "df = _processar(df)"
   ]
  },
  {
   "cell_type": "code",
   "execution_count": 67,
   "id": "1b49bbaa",
   "metadata": {},
   "outputs": [
    {
     "data": {
      "text/plain": [
       "Index(['regiao', 'estado', 'municipio', 'data', 'semana_epi',\n",
       "       'populacao_tcu_2019', 'obitos_acumulados', 'obitos_novos',\n",
       "       'interior_metropolitana', 'novos_casos_novos', 'novos_casos_acumulados',\n",
       "       'ano', 'mes_numerico', 'dia_semana_numerico', 'estacao',\n",
       "       'novos_casos_novos_lag_1', 'obitos_novos_lag_1',\n",
       "       'novos_casos_novos_lag_7', 'obitos_novos_lag_7',\n",
       "       'novos_casos_novos_lag_14', 'obitos_novos_lag_14',\n",
       "       'novos_casos_novos_media_movel_7', 'obitos_novos_media_movel_7'],\n",
       "      dtype='object')"
      ]
     },
     "execution_count": 67,
     "metadata": {},
     "output_type": "execute_result"
    }
   ],
   "source": [
    "df.columns"
   ]
  },
  {
   "cell_type": "code",
   "execution_count": 68,
   "id": "02c714be",
   "metadata": {},
   "outputs": [
    {
     "data": {
      "application/vnd.microsoft.datawrangler.viewer.v0+json": {
       "columns": [
        {
         "name": "index",
         "rawType": "int64",
         "type": "integer"
        },
        {
         "name": "regiao",
         "rawType": "int64",
         "type": "integer"
        },
        {
         "name": "estado",
         "rawType": "int64",
         "type": "integer"
        },
        {
         "name": "municipio",
         "rawType": "int64",
         "type": "integer"
        },
        {
         "name": "data",
         "rawType": "datetime64[ms]",
         "type": "unknown"
        },
        {
         "name": "semana_epi",
         "rawType": "int64",
         "type": "integer"
        },
        {
         "name": "populacao_tcu_2019",
         "rawType": "float64",
         "type": "float"
        },
        {
         "name": "obitos_acumulados",
         "rawType": "int64",
         "type": "integer"
        },
        {
         "name": "obitos_novos",
         "rawType": "int64",
         "type": "integer"
        },
        {
         "name": "interior_metropolitana",
         "rawType": "float64",
         "type": "float"
        },
        {
         "name": "novos_casos_novos",
         "rawType": "int64",
         "type": "integer"
        },
        {
         "name": "novos_casos_acumulados",
         "rawType": "int64",
         "type": "integer"
        },
        {
         "name": "ano",
         "rawType": "int32",
         "type": "integer"
        },
        {
         "name": "mes_numerico",
         "rawType": "int32",
         "type": "integer"
        },
        {
         "name": "dia_semana_numerico",
         "rawType": "int32",
         "type": "integer"
        },
        {
         "name": "estacao",
         "rawType": "int64",
         "type": "integer"
        },
        {
         "name": "novos_casos_novos_lag_1",
         "rawType": "float64",
         "type": "float"
        },
        {
         "name": "obitos_novos_lag_1",
         "rawType": "float64",
         "type": "float"
        },
        {
         "name": "novos_casos_novos_lag_7",
         "rawType": "float64",
         "type": "float"
        },
        {
         "name": "obitos_novos_lag_7",
         "rawType": "float64",
         "type": "float"
        },
        {
         "name": "novos_casos_novos_lag_14",
         "rawType": "float64",
         "type": "float"
        },
        {
         "name": "obitos_novos_lag_14",
         "rawType": "float64",
         "type": "float"
        },
        {
         "name": "novos_casos_novos_media_movel_7",
         "rawType": "float64",
         "type": "float"
        },
        {
         "name": "obitos_novos_media_movel_7",
         "rawType": "float64",
         "type": "float"
        }
       ],
       "ref": "8101ac42-5872-4c61-9859-7fb6fe636328",
       "rows": [
        [
         "0",
         "0",
         "4",
         "0",
         "2020-03-27 00:00:00",
         "13",
         "8773.0",
         "0",
         "0",
         "1.0",
         "0",
         "0",
         "2020",
         "3",
         "4",
         "1",
         null,
         null,
         null,
         null,
         null,
         null,
         null,
         null
        ],
        [
         "1",
         "0",
         "4",
         "0",
         "2020-03-28 00:00:00",
         "13",
         "8773.0",
         "0",
         "0",
         "1.0",
         "0",
         "0",
         "2020",
         "3",
         "5",
         "1",
         "0.0",
         "0.0",
         null,
         null,
         null,
         null,
         null,
         null
        ],
        [
         "2",
         "0",
         "4",
         "0",
         "2020-03-29 00:00:00",
         "14",
         "8773.0",
         "0",
         "0",
         "1.0",
         "0",
         "0",
         "2020",
         "3",
         "6",
         "1",
         "0.0",
         "0.0",
         null,
         null,
         null,
         null,
         null,
         null
        ],
        [
         "3",
         "0",
         "4",
         "0",
         "2020-03-30 00:00:00",
         "14",
         "8773.0",
         "0",
         "0",
         "1.0",
         "0",
         "0",
         "2020",
         "3",
         "0",
         "1",
         "0.0",
         "0.0",
         null,
         null,
         null,
         null,
         null,
         null
        ],
        [
         "4",
         "0",
         "4",
         "0",
         "2020-03-31 00:00:00",
         "14",
         "8773.0",
         "0",
         "0",
         "1.0",
         "0",
         "0",
         "2020",
         "3",
         "1",
         "1",
         "0.0",
         "0.0",
         null,
         null,
         null,
         null,
         null,
         null
        ]
       ],
       "shape": {
        "columns": 23,
        "rows": 5
       }
      },
      "text/html": [
       "<div>\n",
       "<style scoped>\n",
       "    .dataframe tbody tr th:only-of-type {\n",
       "        vertical-align: middle;\n",
       "    }\n",
       "\n",
       "    .dataframe tbody tr th {\n",
       "        vertical-align: top;\n",
       "    }\n",
       "\n",
       "    .dataframe thead th {\n",
       "        text-align: right;\n",
       "    }\n",
       "</style>\n",
       "<table border=\"1\" class=\"dataframe\">\n",
       "  <thead>\n",
       "    <tr style=\"text-align: right;\">\n",
       "      <th></th>\n",
       "      <th>regiao</th>\n",
       "      <th>estado</th>\n",
       "      <th>municipio</th>\n",
       "      <th>data</th>\n",
       "      <th>semana_epi</th>\n",
       "      <th>populacao_tcu_2019</th>\n",
       "      <th>obitos_acumulados</th>\n",
       "      <th>obitos_novos</th>\n",
       "      <th>interior_metropolitana</th>\n",
       "      <th>novos_casos_novos</th>\n",
       "      <th>...</th>\n",
       "      <th>dia_semana_numerico</th>\n",
       "      <th>estacao</th>\n",
       "      <th>novos_casos_novos_lag_1</th>\n",
       "      <th>obitos_novos_lag_1</th>\n",
       "      <th>novos_casos_novos_lag_7</th>\n",
       "      <th>obitos_novos_lag_7</th>\n",
       "      <th>novos_casos_novos_lag_14</th>\n",
       "      <th>obitos_novos_lag_14</th>\n",
       "      <th>novos_casos_novos_media_movel_7</th>\n",
       "      <th>obitos_novos_media_movel_7</th>\n",
       "    </tr>\n",
       "  </thead>\n",
       "  <tbody>\n",
       "    <tr>\n",
       "      <th>0</th>\n",
       "      <td>0</td>\n",
       "      <td>4</td>\n",
       "      <td>0</td>\n",
       "      <td>2020-03-27</td>\n",
       "      <td>13</td>\n",
       "      <td>8773.0</td>\n",
       "      <td>0</td>\n",
       "      <td>0</td>\n",
       "      <td>1.0</td>\n",
       "      <td>0</td>\n",
       "      <td>...</td>\n",
       "      <td>4</td>\n",
       "      <td>1</td>\n",
       "      <td>NaN</td>\n",
       "      <td>NaN</td>\n",
       "      <td>NaN</td>\n",
       "      <td>NaN</td>\n",
       "      <td>NaN</td>\n",
       "      <td>NaN</td>\n",
       "      <td>NaN</td>\n",
       "      <td>NaN</td>\n",
       "    </tr>\n",
       "    <tr>\n",
       "      <th>1</th>\n",
       "      <td>0</td>\n",
       "      <td>4</td>\n",
       "      <td>0</td>\n",
       "      <td>2020-03-28</td>\n",
       "      <td>13</td>\n",
       "      <td>8773.0</td>\n",
       "      <td>0</td>\n",
       "      <td>0</td>\n",
       "      <td>1.0</td>\n",
       "      <td>0</td>\n",
       "      <td>...</td>\n",
       "      <td>5</td>\n",
       "      <td>1</td>\n",
       "      <td>0.0</td>\n",
       "      <td>0.0</td>\n",
       "      <td>NaN</td>\n",
       "      <td>NaN</td>\n",
       "      <td>NaN</td>\n",
       "      <td>NaN</td>\n",
       "      <td>NaN</td>\n",
       "      <td>NaN</td>\n",
       "    </tr>\n",
       "    <tr>\n",
       "      <th>2</th>\n",
       "      <td>0</td>\n",
       "      <td>4</td>\n",
       "      <td>0</td>\n",
       "      <td>2020-03-29</td>\n",
       "      <td>14</td>\n",
       "      <td>8773.0</td>\n",
       "      <td>0</td>\n",
       "      <td>0</td>\n",
       "      <td>1.0</td>\n",
       "      <td>0</td>\n",
       "      <td>...</td>\n",
       "      <td>6</td>\n",
       "      <td>1</td>\n",
       "      <td>0.0</td>\n",
       "      <td>0.0</td>\n",
       "      <td>NaN</td>\n",
       "      <td>NaN</td>\n",
       "      <td>NaN</td>\n",
       "      <td>NaN</td>\n",
       "      <td>NaN</td>\n",
       "      <td>NaN</td>\n",
       "    </tr>\n",
       "    <tr>\n",
       "      <th>3</th>\n",
       "      <td>0</td>\n",
       "      <td>4</td>\n",
       "      <td>0</td>\n",
       "      <td>2020-03-30</td>\n",
       "      <td>14</td>\n",
       "      <td>8773.0</td>\n",
       "      <td>0</td>\n",
       "      <td>0</td>\n",
       "      <td>1.0</td>\n",
       "      <td>0</td>\n",
       "      <td>...</td>\n",
       "      <td>0</td>\n",
       "      <td>1</td>\n",
       "      <td>0.0</td>\n",
       "      <td>0.0</td>\n",
       "      <td>NaN</td>\n",
       "      <td>NaN</td>\n",
       "      <td>NaN</td>\n",
       "      <td>NaN</td>\n",
       "      <td>NaN</td>\n",
       "      <td>NaN</td>\n",
       "    </tr>\n",
       "    <tr>\n",
       "      <th>4</th>\n",
       "      <td>0</td>\n",
       "      <td>4</td>\n",
       "      <td>0</td>\n",
       "      <td>2020-03-31</td>\n",
       "      <td>14</td>\n",
       "      <td>8773.0</td>\n",
       "      <td>0</td>\n",
       "      <td>0</td>\n",
       "      <td>1.0</td>\n",
       "      <td>0</td>\n",
       "      <td>...</td>\n",
       "      <td>1</td>\n",
       "      <td>1</td>\n",
       "      <td>0.0</td>\n",
       "      <td>0.0</td>\n",
       "      <td>NaN</td>\n",
       "      <td>NaN</td>\n",
       "      <td>NaN</td>\n",
       "      <td>NaN</td>\n",
       "      <td>NaN</td>\n",
       "      <td>NaN</td>\n",
       "    </tr>\n",
       "  </tbody>\n",
       "</table>\n",
       "<p>5 rows × 23 columns</p>\n",
       "</div>"
      ],
      "text/plain": [
       "   regiao  estado  municipio       data  semana_epi  populacao_tcu_2019  \\\n",
       "0       0       4          0 2020-03-27          13              8773.0   \n",
       "1       0       4          0 2020-03-28          13              8773.0   \n",
       "2       0       4          0 2020-03-29          14              8773.0   \n",
       "3       0       4          0 2020-03-30          14              8773.0   \n",
       "4       0       4          0 2020-03-31          14              8773.0   \n",
       "\n",
       "   obitos_acumulados  obitos_novos  interior_metropolitana  novos_casos_novos  \\\n",
       "0                  0             0                     1.0                  0   \n",
       "1                  0             0                     1.0                  0   \n",
       "2                  0             0                     1.0                  0   \n",
       "3                  0             0                     1.0                  0   \n",
       "4                  0             0                     1.0                  0   \n",
       "\n",
       "   ...  dia_semana_numerico  estacao  novos_casos_novos_lag_1  \\\n",
       "0  ...                    4        1                      NaN   \n",
       "1  ...                    5        1                      0.0   \n",
       "2  ...                    6        1                      0.0   \n",
       "3  ...                    0        1                      0.0   \n",
       "4  ...                    1        1                      0.0   \n",
       "\n",
       "   obitos_novos_lag_1  novos_casos_novos_lag_7  obitos_novos_lag_7  \\\n",
       "0                 NaN                      NaN                 NaN   \n",
       "1                 0.0                      NaN                 NaN   \n",
       "2                 0.0                      NaN                 NaN   \n",
       "3                 0.0                      NaN                 NaN   \n",
       "4                 0.0                      NaN                 NaN   \n",
       "\n",
       "   novos_casos_novos_lag_14  obitos_novos_lag_14  \\\n",
       "0                       NaN                  NaN   \n",
       "1                       NaN                  NaN   \n",
       "2                       NaN                  NaN   \n",
       "3                       NaN                  NaN   \n",
       "4                       NaN                  NaN   \n",
       "\n",
       "   novos_casos_novos_media_movel_7  obitos_novos_media_movel_7  \n",
       "0                              NaN                         NaN  \n",
       "1                              NaN                         NaN  \n",
       "2                              NaN                         NaN  \n",
       "3                              NaN                         NaN  \n",
       "4                              NaN                         NaN  \n",
       "\n",
       "[5 rows x 23 columns]"
      ]
     },
     "execution_count": 68,
     "metadata": {},
     "output_type": "execute_result"
    }
   ],
   "source": [
    "df.head(5)"
   ]
  },
  {
   "cell_type": "markdown",
   "id": "088062be",
   "metadata": {},
   "source": [
    "# XGBoost"
   ]
  },
  {
   "cell_type": "code",
   "execution_count": 69,
   "id": "f1639362",
   "metadata": {},
   "outputs": [],
   "source": [
    "from xgboost import XGBRegressor\n",
    "\n",
    "def treinamento(df_treino, df_teste):\n",
    "  X_treino, y_treino = df_treino[df_treino.columns.difference(['novos_casos_novos', 'data'])], df_treino[['novos_casos_novos']]\n",
    "  X_teste = df_teste[df_teste.columns.difference(['novos_casos_novos', 'data'])]\n",
    "\n",
    "  model = XGBRegressor()\n",
    "  model.fit(X_treino, y_treino)\n",
    "\n",
    "  coluna_predita = model.predict(X_teste)\n",
    "\n",
    "  df_teste['predicao'] = coluna_predita\n",
    "\n",
    "  return df_teste, model.feature_importances_\n"
   ]
  },
  {
   "cell_type": "code",
   "execution_count": 70,
   "id": "5cdac602",
   "metadata": {},
   "outputs": [
    {
     "data": {
      "application/vnd.microsoft.datawrangler.viewer.v0+json": {
       "columns": [
        {
         "name": "index",
         "rawType": "int64",
         "type": "integer"
        },
        {
         "name": "regiao",
         "rawType": "int64",
         "type": "integer"
        },
        {
         "name": "estado",
         "rawType": "int64",
         "type": "integer"
        },
        {
         "name": "municipio",
         "rawType": "int64",
         "type": "integer"
        },
        {
         "name": "data",
         "rawType": "datetime64[ns]",
         "type": "datetime"
        },
        {
         "name": "semana_epi",
         "rawType": "int64",
         "type": "integer"
        },
        {
         "name": "populacao_tcu_2019",
         "rawType": "float64",
         "type": "float"
        },
        {
         "name": "obitos_acumulados",
         "rawType": "int64",
         "type": "integer"
        },
        {
         "name": "obitos_novos",
         "rawType": "int64",
         "type": "integer"
        },
        {
         "name": "interior_metropolitana",
         "rawType": "float64",
         "type": "float"
        },
        {
         "name": "novos_casos_novos",
         "rawType": "int64",
         "type": "integer"
        },
        {
         "name": "novos_casos_acumulados",
         "rawType": "int64",
         "type": "integer"
        },
        {
         "name": "ano",
         "rawType": "int32",
         "type": "integer"
        },
        {
         "name": "mes_numerico",
         "rawType": "int32",
         "type": "integer"
        },
        {
         "name": "dia_semana_numerico",
         "rawType": "int32",
         "type": "integer"
        },
        {
         "name": "estacao",
         "rawType": "int64",
         "type": "integer"
        },
        {
         "name": "novos_casos_novos_lag_1",
         "rawType": "float64",
         "type": "float"
        },
        {
         "name": "obitos_novos_lag_1",
         "rawType": "float64",
         "type": "float"
        },
        {
         "name": "novos_casos_novos_lag_7",
         "rawType": "float64",
         "type": "float"
        },
        {
         "name": "obitos_novos_lag_7",
         "rawType": "float64",
         "type": "float"
        },
        {
         "name": "novos_casos_novos_lag_14",
         "rawType": "float64",
         "type": "float"
        },
        {
         "name": "obitos_novos_lag_14",
         "rawType": "float64",
         "type": "float"
        },
        {
         "name": "novos_casos_novos_media_movel_7",
         "rawType": "float64",
         "type": "float"
        },
        {
         "name": "obitos_novos_media_movel_7",
         "rawType": "float64",
         "type": "float"
        },
        {
         "name": "predicao",
         "rawType": "float32",
         "type": "float"
        }
       ],
       "ref": "bcf331ad-1c3d-4d4b-b9bb-f5a047674a9a",
       "rows": [
        [
         "99999",
         "3",
         "6",
         "54",
         "2020-08-27 00:00:00",
         "35",
         "2674.0",
         "0",
         "0",
         "0.0",
         "4",
         "8",
         "2020",
         "8",
         "3",
         "0",
         "4.0",
         "0.0",
         "0.0",
         "0.0",
         "0.0",
         "0.0",
         "0.5714285714285714",
         "0.0",
         "0.34732223"
        ]
       ],
       "shape": {
        "columns": 24,
        "rows": 1
       }
      },
      "text/html": [
       "<div>\n",
       "<style scoped>\n",
       "    .dataframe tbody tr th:only-of-type {\n",
       "        vertical-align: middle;\n",
       "    }\n",
       "\n",
       "    .dataframe tbody tr th {\n",
       "        vertical-align: top;\n",
       "    }\n",
       "\n",
       "    .dataframe thead th {\n",
       "        text-align: right;\n",
       "    }\n",
       "</style>\n",
       "<table border=\"1\" class=\"dataframe\">\n",
       "  <thead>\n",
       "    <tr style=\"text-align: right;\">\n",
       "      <th></th>\n",
       "      <th>regiao</th>\n",
       "      <th>estado</th>\n",
       "      <th>municipio</th>\n",
       "      <th>data</th>\n",
       "      <th>semana_epi</th>\n",
       "      <th>populacao_tcu_2019</th>\n",
       "      <th>obitos_acumulados</th>\n",
       "      <th>obitos_novos</th>\n",
       "      <th>interior_metropolitana</th>\n",
       "      <th>novos_casos_novos</th>\n",
       "      <th>...</th>\n",
       "      <th>estacao</th>\n",
       "      <th>novos_casos_novos_lag_1</th>\n",
       "      <th>obitos_novos_lag_1</th>\n",
       "      <th>novos_casos_novos_lag_7</th>\n",
       "      <th>obitos_novos_lag_7</th>\n",
       "      <th>novos_casos_novos_lag_14</th>\n",
       "      <th>obitos_novos_lag_14</th>\n",
       "      <th>novos_casos_novos_media_movel_7</th>\n",
       "      <th>obitos_novos_media_movel_7</th>\n",
       "      <th>predicao</th>\n",
       "    </tr>\n",
       "  </thead>\n",
       "  <tbody>\n",
       "    <tr>\n",
       "      <th>99999</th>\n",
       "      <td>3</td>\n",
       "      <td>6</td>\n",
       "      <td>54</td>\n",
       "      <td>2020-08-27</td>\n",
       "      <td>35</td>\n",
       "      <td>2674.0</td>\n",
       "      <td>0</td>\n",
       "      <td>0</td>\n",
       "      <td>0.0</td>\n",
       "      <td>4</td>\n",
       "      <td>...</td>\n",
       "      <td>0</td>\n",
       "      <td>4.0</td>\n",
       "      <td>0.0</td>\n",
       "      <td>0.0</td>\n",
       "      <td>0.0</td>\n",
       "      <td>0.0</td>\n",
       "      <td>0.0</td>\n",
       "      <td>0.571429</td>\n",
       "      <td>0.0</td>\n",
       "      <td>0.347322</td>\n",
       "    </tr>\n",
       "  </tbody>\n",
       "</table>\n",
       "<p>1 rows × 24 columns</p>\n",
       "</div>"
      ],
      "text/plain": [
       "       regiao  estado  municipio       data  semana_epi  populacao_tcu_2019  \\\n",
       "99999       3       6         54 2020-08-27          35              2674.0   \n",
       "\n",
       "       obitos_acumulados  obitos_novos  interior_metropolitana  \\\n",
       "99999                  0             0                     0.0   \n",
       "\n",
       "       novos_casos_novos  ...  estacao  novos_casos_novos_lag_1  \\\n",
       "99999                  4  ...        0                      4.0   \n",
       "\n",
       "       obitos_novos_lag_1  novos_casos_novos_lag_7  obitos_novos_lag_7  \\\n",
       "99999                 0.0                      0.0                 0.0   \n",
       "\n",
       "       novos_casos_novos_lag_14  obitos_novos_lag_14  \\\n",
       "99999                       0.0                  0.0   \n",
       "\n",
       "       novos_casos_novos_media_movel_7  obitos_novos_media_movel_7  predicao  \n",
       "99999                         0.571429                         0.0  0.347322  \n",
       "\n",
       "[1 rows x 24 columns]"
      ]
     },
     "execution_count": 70,
     "metadata": {},
     "output_type": "execute_result"
    }
   ],
   "source": [
    "df_teste, feature_importances = treinamento(df.iloc[:-1], pd.DataFrame([df.iloc[-1]]))\n",
    "\n",
    "df_teste.head(5)"
   ]
  }
 ],
 "metadata": {
  "kernelspec": {
   "display_name": "env",
   "language": "python",
   "name": "python3"
  },
  "language_info": {
   "codemirror_mode": {
    "name": "ipython",
    "version": 3
   },
   "file_extension": ".py",
   "mimetype": "text/x-python",
   "name": "python",
   "nbconvert_exporter": "python",
   "pygments_lexer": "ipython3",
   "version": "3.11.9"
  }
 },
 "nbformat": 4,
 "nbformat_minor": 5
}
