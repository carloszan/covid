{
  "cells": [
    {
      "cell_type": "code",
      "execution_count": 5,
      "id": "390530c3",
      "metadata": {},
      "outputs": [],
      "source": [
        "import pandas as pd"
      ]
    },
    {
      "cell_type": "code",
      "execution_count": 35,
      "id": "a9f04e7d",
      "metadata": {},
      "outputs": [],
      "source": [
        "df = pd.read_csv(\"../dados/AC_Acrelândia.csv\", parse_dates=[\"data\"])"
      ]
    },
    {
      "cell_type": "code",
      "execution_count": 36,
      "id": "bbfacd1c",
      "metadata": {},
      "outputs": [
        {
          "name": "stdout",
          "output_type": "stream",
          "text": [
            "Index(['Unnamed: 0', 'regiao', 'estado', 'municipio', 'coduf', 'codmun',\n",
            "       'codRegiaoSaude', 'nomeRegiaoSaude', 'data', 'semanaEpi',\n",
            "       'populacaoTCU2019', 'casosAcumulado', 'casosNovos', 'obitosAcumulado',\n",
            "       'obitosNovos', 'Recuperadosnovos', 'emAcompanhamentoNovos',\n",
            "       'interior/metropolitana', 'novos_casos_acumulados'],\n",
            "      dtype='object')\n"
          ]
        }
      ],
      "source": [
        "print(df.columns)\n",
        "# Todo: verificar se Recuperadosnovos\temAcompanhamentoNovos são nulos para todos os municipios\n",
        "df.drop(columns=[\"Recuperadosnovos\", \"emAcompanhamentoNovos\"], inplace=True)"
      ]
    },
    {
      "cell_type": "code",
      "execution_count": null,
      "id": "7f384f92",
      "metadata": {},
      "outputs": [],
      "source": [
        "def obter_estacao(data):\n",
        "    ano = data.year\n",
        "    datas_estacoes = {\n",
        "        \"verao\": pd.Timestamp(f\"{ano}-12-21\"),\n",
        "        \"outono\": pd.Timestamp(f\"{ano}-3-21\"),\n",
        "        \"inverno\": pd.Timestamp(f\"{ano}-6-21\"),\n",
        "        \"primavera\": pd.Timestamp(f\"{ano}-9-21\"),\n",
        "    }\n",
        "\n",
        "    if data >= datas_estacoes[\"verao\"] or data < datas_estacoes[\"outono\"]:\n",
        "        return \"verão\"\n",
        "    elif data >= datas_estacoes[\"outono\"] and data < datas_estacoes[\"inverno\"]:\n",
        "        return \"outono\"\n",
        "    elif data >= datas_estacoes[\"inverno\"] and data < datas_estacoes[\"primavera\"]:\n",
        "        return \"inverno\"\n",
        "    else:\n",
        "        return \"primavera\"\n",
        "\n",
        "\n",
        "df[\"mes\"] = df.data.dt.month\n",
        "df[\"dia_semana\"] = df.data.dt.day_name()\n",
        "df[\"estacao\"] = df[\"data\"].apply(obter_estacao)"
      ]
    },
    {
      "cell_type": "code",
      "execution_count": 40,
      "id": "475b8921",
      "metadata": {},
      "outputs": [
        {
          "data": {
            "text/plain": [
              "mes\n",
              "4     168\n",
              "3     160\n",
              "5     155\n",
              "7     155\n",
              "1     155\n",
              "8     155\n",
              "10    155\n",
              "12    155\n",
              "6     150\n",
              "9     150\n",
              "11    150\n",
              "2     141\n",
              "Name: count, dtype: int64"
            ]
          },
          "execution_count": 40,
          "metadata": {},
          "output_type": "execute_result"
        }
      ],
      "source": [
        "df.mes.value_counts()"
      ]
    },
    {
      "cell_type": "code",
      "execution_count": null,
      "id": "85910781",
      "metadata": {},
      "outputs": [],
      "source": []
    }
  ],
  "metadata": {
    "kernelspec": {
      "display_name": "covid",
      "language": "python",
      "name": "python3"
    },
    "language_info": {
      "codemirror_mode": {
        "name": "ipython",
        "version": 3
      },
      "file_extension": ".py",
      "mimetype": "text/x-python",
      "name": "python",
      "nbconvert_exporter": "python",
      "pygments_lexer": "ipython3",
      "version": "3.13.2"
    }
  },
  "nbformat": 4,
  "nbformat_minor": 5
}
