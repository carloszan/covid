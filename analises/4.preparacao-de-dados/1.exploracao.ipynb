{
 "cells": [
  {
   "cell_type": "markdown",
   "id": "84234b96",
   "metadata": {},
   "source": [
    "# Carregar dados para a memória"
   ]
  },
  {
   "cell_type": "code",
   "execution_count": 12,
   "id": "70f4c99c",
   "metadata": {},
   "outputs": [
    {
     "data": {
      "text/html": [
       "<div>\n",
       "<style scoped>\n",
       "    .dataframe tbody tr th:only-of-type {\n",
       "        vertical-align: middle;\n",
       "    }\n",
       "\n",
       "    .dataframe tbody tr th {\n",
       "        vertical-align: top;\n",
       "    }\n",
       "\n",
       "    .dataframe thead th {\n",
       "        text-align: right;\n",
       "    }\n",
       "</style>\n",
       "<table border=\"1\" class=\"dataframe\">\n",
       "  <thead>\n",
       "    <tr style=\"text-align: right;\">\n",
       "      <th></th>\n",
       "      <th>index</th>\n",
       "      <th>regiao</th>\n",
       "      <th>estado</th>\n",
       "      <th>municipio</th>\n",
       "      <th>coduf</th>\n",
       "      <th>codmun</th>\n",
       "      <th>codRegiaoSaude</th>\n",
       "      <th>nomeRegiaoSaude</th>\n",
       "      <th>data</th>\n",
       "      <th>semanaEpi</th>\n",
       "      <th>populacaoTCU2019</th>\n",
       "      <th>casosAcumulado</th>\n",
       "      <th>casosNovos</th>\n",
       "      <th>obitosAcumulado</th>\n",
       "      <th>obitosNovos</th>\n",
       "      <th>Recuperadosnovos</th>\n",
       "      <th>emAcompanhamentoNovos</th>\n",
       "      <th>interior/metropolitana</th>\n",
       "    </tr>\n",
       "  </thead>\n",
       "  <tbody>\n",
       "    <tr>\n",
       "      <th>0</th>\n",
       "      <td>0</td>\n",
       "      <td>Brasil</td>\n",
       "      <td>NaN</td>\n",
       "      <td>NaN</td>\n",
       "      <td>76</td>\n",
       "      <td>NaN</td>\n",
       "      <td>NaN</td>\n",
       "      <td>NaN</td>\n",
       "      <td>2020-02-25</td>\n",
       "      <td>9</td>\n",
       "      <td>210147125.0</td>\n",
       "      <td>0</td>\n",
       "      <td>0</td>\n",
       "      <td>0</td>\n",
       "      <td>0</td>\n",
       "      <td>0.0</td>\n",
       "      <td>0.0</td>\n",
       "      <td>NaN</td>\n",
       "    </tr>\n",
       "    <tr>\n",
       "      <th>1</th>\n",
       "      <td>1</td>\n",
       "      <td>Brasil</td>\n",
       "      <td>NaN</td>\n",
       "      <td>NaN</td>\n",
       "      <td>76</td>\n",
       "      <td>NaN</td>\n",
       "      <td>NaN</td>\n",
       "      <td>NaN</td>\n",
       "      <td>2020-02-26</td>\n",
       "      <td>9</td>\n",
       "      <td>210147125.0</td>\n",
       "      <td>1</td>\n",
       "      <td>1</td>\n",
       "      <td>0</td>\n",
       "      <td>0</td>\n",
       "      <td>1.0</td>\n",
       "      <td>0.0</td>\n",
       "      <td>NaN</td>\n",
       "    </tr>\n",
       "    <tr>\n",
       "      <th>2</th>\n",
       "      <td>2</td>\n",
       "      <td>Brasil</td>\n",
       "      <td>NaN</td>\n",
       "      <td>NaN</td>\n",
       "      <td>76</td>\n",
       "      <td>NaN</td>\n",
       "      <td>NaN</td>\n",
       "      <td>NaN</td>\n",
       "      <td>2020-02-27</td>\n",
       "      <td>9</td>\n",
       "      <td>210147125.0</td>\n",
       "      <td>1</td>\n",
       "      <td>0</td>\n",
       "      <td>0</td>\n",
       "      <td>0</td>\n",
       "      <td>1.0</td>\n",
       "      <td>0.0</td>\n",
       "      <td>NaN</td>\n",
       "    </tr>\n",
       "    <tr>\n",
       "      <th>3</th>\n",
       "      <td>3</td>\n",
       "      <td>Brasil</td>\n",
       "      <td>NaN</td>\n",
       "      <td>NaN</td>\n",
       "      <td>76</td>\n",
       "      <td>NaN</td>\n",
       "      <td>NaN</td>\n",
       "      <td>NaN</td>\n",
       "      <td>2020-02-28</td>\n",
       "      <td>9</td>\n",
       "      <td>210147125.0</td>\n",
       "      <td>1</td>\n",
       "      <td>0</td>\n",
       "      <td>0</td>\n",
       "      <td>0</td>\n",
       "      <td>0.0</td>\n",
       "      <td>1.0</td>\n",
       "      <td>NaN</td>\n",
       "    </tr>\n",
       "    <tr>\n",
       "      <th>4</th>\n",
       "      <td>4</td>\n",
       "      <td>Brasil</td>\n",
       "      <td>NaN</td>\n",
       "      <td>NaN</td>\n",
       "      <td>76</td>\n",
       "      <td>NaN</td>\n",
       "      <td>NaN</td>\n",
       "      <td>NaN</td>\n",
       "      <td>2020-02-29</td>\n",
       "      <td>9</td>\n",
       "      <td>210147125.0</td>\n",
       "      <td>2</td>\n",
       "      <td>1</td>\n",
       "      <td>0</td>\n",
       "      <td>0</td>\n",
       "      <td>1.0</td>\n",
       "      <td>1.0</td>\n",
       "      <td>NaN</td>\n",
       "    </tr>\n",
       "  </tbody>\n",
       "</table>\n",
       "</div>"
      ],
      "text/plain": [
       "   index  regiao estado municipio  coduf  codmun  codRegiaoSaude  \\\n",
       "0      0  Brasil    NaN       NaN     76     NaN             NaN   \n",
       "1      1  Brasil    NaN       NaN     76     NaN             NaN   \n",
       "2      2  Brasil    NaN       NaN     76     NaN             NaN   \n",
       "3      3  Brasil    NaN       NaN     76     NaN             NaN   \n",
       "4      4  Brasil    NaN       NaN     76     NaN             NaN   \n",
       "\n",
       "  nomeRegiaoSaude        data  semanaEpi  populacaoTCU2019  casosAcumulado  \\\n",
       "0             NaN  2020-02-25          9       210147125.0               0   \n",
       "1             NaN  2020-02-26          9       210147125.0               1   \n",
       "2             NaN  2020-02-27          9       210147125.0               1   \n",
       "3             NaN  2020-02-28          9       210147125.0               1   \n",
       "4             NaN  2020-02-29          9       210147125.0               2   \n",
       "\n",
       "   casosNovos  obitosAcumulado  obitosNovos  Recuperadosnovos  \\\n",
       "0           0                0            0               0.0   \n",
       "1           1                0            0               1.0   \n",
       "2           0                0            0               1.0   \n",
       "3           0                0            0               0.0   \n",
       "4           1                0            0               1.0   \n",
       "\n",
       "   emAcompanhamentoNovos  interior/metropolitana  \n",
       "0                    0.0                     NaN  \n",
       "1                    0.0                     NaN  \n",
       "2                    0.0                     NaN  \n",
       "3                    1.0                     NaN  \n",
       "4                    1.0                     NaN  "
      ]
     },
     "execution_count": 12,
     "metadata": {},
     "output_type": "execute_result"
    }
   ],
   "source": [
    "import pandas as pd\n",
    "from pathlib import Path\n",
    "\n",
    "# Path to the directory\n",
    "directory_path = Path('./../../dados')\n",
    "\n",
    "# Get all files in the directory\n",
    "files = [f for f in directory_path.iterdir() if f.is_file()]\n",
    "\n",
    "# df = pd.DataFrame()\n",
    "\n",
    "# for file in files:\n",
    "#     print(file.name)\n",
    "#     aux_df = pd.read_csv(f\"{directory_path}/{file.name}\", sep=';')\n",
    "#     df = pd.concat([df, aux_df])\n",
    "\n",
    "df = pd.read_csv(f\"{directory_path}/HIST_PAINEL_COVIDBR_2020_Parte1_18abr2025.csv\", sep=\";\")\n",
    "df = df.reset_index()\n",
    "\n",
    "df.head()"
   ]
  },
  {
   "cell_type": "code",
   "execution_count": 3,
   "id": "268114b4",
   "metadata": {},
   "outputs": [],
   "source": [
    "import duckdb\n",
    "\n",
    "caminho = './../../dados/' \n",
    "\n",
    "query = f\"\"\"\n",
    "    SELECT casosAcumulado\n",
    "    FROM read_csv_auto('{caminho}/*.csv', union_by_name=true)\n",
    "\"\"\"\n",
    "\n",
    "df = duckdb.query(query).to_df()"
   ]
  },
  {
   "cell_type": "markdown",
   "id": "964f3094",
   "metadata": {},
   "source": [
    "# Remover outliers\n",
    "\n",
    "Os outliers nos _casosNovos_ impactam os _casosAcumulado_, então removeremos os outliers dos _casosNovos_ e recalcularemos os _casosAcumulado_."
   ]
  },
  {
   "cell_type": "markdown",
   "id": "bae3e9f3",
   "metadata": {},
   "source": [
    "## Exemplo de outlier\n",
    "No dia 2020-06-04 no Rio de Janeiro os casos foram registrados normalmente."
   ]
  },
  {
   "cell_type": "code",
   "execution_count": null,
   "id": "ed766419",
   "metadata": {},
   "outputs": [
    {
     "data": {
      "text/plain": [
       "index                              418132\n",
       "regiao                            Sudeste\n",
       "estado                                 RJ\n",
       "municipio                  Rio de Janeiro\n",
       "coduf                                  33\n",
       "codmun                           330455.0\n",
       "codRegiaoSaude                    33005.0\n",
       "nomeRegiaoSaude           METROPOLITANA I\n",
       "data                           2020-06-04\n",
       "semanaEpi                              23\n",
       "populacaoTCU2019                6718903.0\n",
       "casosAcumulado                      33695\n",
       "casosNovos                            744\n",
       "obitosAcumulado                      4231\n",
       "obitosNovos                           176\n",
       "Recuperadosnovos                      NaN\n",
       "emAcompanhamentoNovos                 NaN\n",
       "interior/metropolitana                1.0\n",
       "z_score                          0.169072\n",
       "Name: 418132, dtype: object"
      ]
     },
     "metadata": {},
     "output_type": "display_data"
    }
   ],
   "source": [
    "df.loc[418132]"
   ]
  },
  {
   "cell_type": "markdown",
   "id": "8ccf3bfa",
   "metadata": {},
   "source": [
    "Porém no dia 2020-06-05 tivemos um registro de 1.372.984 casos novos."
   ]
  },
  {
   "cell_type": "code",
   "execution_count": null,
   "id": "377c1c5d",
   "metadata": {},
   "outputs": [
    {
     "data": {
      "text/plain": [
       "index                              418133\n",
       "regiao                            Sudeste\n",
       "estado                                 RJ\n",
       "municipio                  Rio de Janeiro\n",
       "coduf                                  33\n",
       "codmun                           330455.0\n",
       "codRegiaoSaude                    33005.0\n",
       "nomeRegiaoSaude           METROPOLITANA I\n",
       "data                           2020-06-05\n",
       "semanaEpi                              23\n",
       "populacaoTCU2019                6718903.0\n",
       "casosAcumulado                    1408687\n",
       "casosNovos                        1374992\n",
       "obitosAcumulado                     38643\n",
       "obitosNovos                         34412\n",
       "Recuperadosnovos                      NaN\n",
       "emAcompanhamentoNovos                 NaN\n",
       "interior/metropolitana                1.0\n",
       "z_score                        317.226986\n",
       "Name: 418133, dtype: object"
      ]
     },
     "metadata": {},
     "output_type": "display_data"
    }
   ],
   "source": [
    "df.loc[418133]"
   ]
  },
  {
   "cell_type": "markdown",
   "id": "1fb07817",
   "metadata": {},
   "source": [
    "E foi removido no dia 2020-06-06"
   ]
  },
  {
   "cell_type": "code",
   "execution_count": null,
   "id": "82ee1684",
   "metadata": {},
   "outputs": [
    {
     "data": {
      "text/plain": [
       "index                              418134\n",
       "regiao                            Sudeste\n",
       "estado                                 RJ\n",
       "municipio                  Rio de Janeiro\n",
       "coduf                                  33\n",
       "codmun                           330455.0\n",
       "codRegiaoSaude                    33005.0\n",
       "nomeRegiaoSaude           METROPOLITANA I\n",
       "data                           2020-06-06\n",
       "semanaEpi                              23\n",
       "populacaoTCU2019                6718903.0\n",
       "casosAcumulado                      35703\n",
       "casosNovos                       -1372984\n",
       "obitosAcumulado                      4401\n",
       "obitosNovos                        -34242\n",
       "Recuperadosnovos                      NaN\n",
       "emAcompanhamentoNovos                 NaN\n",
       "interior/metropolitana                1.0\n",
       "z_score                       -316.768872\n",
       "Name: 418134, dtype: object"
      ]
     },
     "metadata": {},
     "output_type": "display_data"
    }
   ],
   "source": [
    "df.loc[418134]"
   ]
  },
  {
   "cell_type": "markdown",
   "id": "6fa2241c",
   "metadata": {},
   "source": [
    "## Tratando outliers"
   ]
  },
  {
   "cell_type": "code",
   "execution_count": 15,
   "id": "738a576f",
   "metadata": {},
   "outputs": [],
   "source": [
    "box_plot_df = pd.melt(df, id_vars=['index'], value_vars=['casosNovos', 'obitosNovos'])"
   ]
  },
  {
   "cell_type": "code",
   "execution_count": 18,
   "id": "a96354b8",
   "metadata": {},
   "outputs": [
    {
     "data": {
      "text/plain": [
       "Index(['index', 'regiao', 'estado', 'municipio', 'coduf', 'codmun',\n",
       "       'codRegiaoSaude', 'nomeRegiaoSaude', 'data', 'semanaEpi',\n",
       "       'populacaoTCU2019', 'casosAcumulado', 'casosNovos', 'obitosAcumulado',\n",
       "       'obitosNovos', 'Recuperadosnovos', 'emAcompanhamentoNovos',\n",
       "       'interior/metropolitana'],\n",
       "      dtype='object')"
      ]
     },
     "execution_count": 18,
     "metadata": {},
     "output_type": "execute_result"
    }
   ],
   "source": [
    "df.columns"
   ]
  },
  {
   "cell_type": "code",
   "execution_count": null,
   "id": "558ea7d6",
   "metadata": {},
   "outputs": [
    {
     "data": {
      "text/plain": [
       "<Axes: xlabel='value', ylabel='variable'>"
      ]
     },
     "execution_count": 16,
     "metadata": {},
     "output_type": "execute_result"
    },
    {
     "data": {
      "image/png": "[encoded data removed]",
      "text/plain": [
       "<Figure size 640x480 with 1 Axes>"
      ]
     },
     "metadata": {},
     "output_type": "display_data"
    }
   ],
   "source": [
    "import seaborn as sns\n",
    "\n",
    "sns.boxplot(data=box_plot_df, x=\"value\", y=\"variable\")"
   ]
  },
  {
   "cell_type": "code",
   "execution_count": 29,
   "id": "b8d408c6",
   "metadata": {},
   "outputs": [
    {
     "data": {
      "text/plain": [
       "count    7.144810e+05\n",
       "mean     1.586208e-18\n",
       "std      1.000001e+00\n",
       "min     -3.167689e+02\n",
       "25%     -2.579237e-03\n",
       "50%     -2.579237e-03\n",
       "75%     -2.348523e-03\n",
       "max      3.172270e+02\n",
       "Name: z_score, dtype: float64"
      ]
     },
     "execution_count": 29,
     "metadata": {},
     "output_type": "execute_result"
    }
   ],
   "source": [
    "from sklearn.preprocessing import StandardScaler\n",
    "\n",
    "scaler = StandardScaler()\n",
    "\n",
    "df[\"z_score\"] = scaler.fit_transform(df[['casosNovos']])\n",
    "\n",
    "df[\"z_score\"].describe()"
   ]
  },
  {
   "cell_type": "markdown",
   "id": "956df76e",
   "metadata": {},
   "source": [
    "Com isso definimos que um limite ideal para corte será de 3."
   ]
  },
  {
   "cell_type": "code",
   "execution_count": 57,
   "id": "e5ad8806",
   "metadata": {},
   "outputs": [
    {
     "name": "stdout",
     "output_type": "stream",
     "text": [
      "Antes da remoção de outliers:  714481 | Depois:  713408\n",
      "Diferença:  1073\n"
     ]
    }
   ],
   "source": [
    "LIMITE_COMUM = 3\n",
    "\n",
    "df_sem_outliers = df[abs(df[\"z_score\"]) < LIMITE_COMUM]\n",
    "\n",
    "print(\"Antes da remoção de outliers: \", len(df), \"| Depois: \", len(df_sem_outliers))\n",
    "print(\"Diferença: \", len(df) - len(df_sem_outliers))"
   ]
  },
  {
   "cell_type": "code",
   "execution_count": 72,
   "id": "6c369f2f",
   "metadata": {},
   "outputs": [
    {
     "data": {
      "text/plain": [
       "<Axes: title={'center': 'Depois da remoção de outliers'}, xlabel='casosNovos'>"
      ]
     },
     "execution_count": 72,
     "metadata": {},
     "output_type": "execute_result"
    },
    {
     "data": {
      "image/png": "[encoded data removed]",
      "text/plain": [
       "<Figure size 1200x500 with 2 Axes>"
      ]
     },
     "metadata": {},
     "output_type": "display_data"
    }
   ],
   "source": [
    "import matplotlib.pyplot as plt\n",
    "\n",
    "plt.figure(figsize=(12,5))\n",
    "plt.subplot(1,2,1)\n",
    "plt.title(\"Antes da remoção de outliers\")\n",
    "sns.boxplot(data=df, x=\"casosNovos\")\n",
    "\n",
    "plt.subplot(1,2,2)\n",
    "plt.title(\"Depois da remoção de outliers\")\n",
    "sns.boxplot(data=df_sem_outliers, x=\"casosNovos\")"
   ]
  },
  {
   "cell_type": "markdown",
   "id": "e9483c1d",
   "metadata": {},
   "source": [
    "### Linha do tempo"
   ]
  },
  {
   "cell_type": "code",
   "execution_count": 89,
   "id": "d8027d08",
   "metadata": {},
   "outputs": [
    {
     "data": {
      "text/plain": [
       "Text(0.5, 0, '')"
      ]
     },
     "execution_count": 89,
     "metadata": {},
     "output_type": "execute_result"
    },
    {
     "data": {
      "image/png": "[encoded data removed]",
      "text/plain": [
       "<Figure size 1200x500 with 2 Axes>"
      ]
     },
     "metadata": {},
     "output_type": "display_data"
    }
   ],
   "source": [
    "plot_df = df[df['municipio'] == 'Rio de Janeiro']\n",
    "plot_df_sem_outliers = df_sem_outliers[df_sem_outliers['municipio'] == 'Rio de Janeiro']\n",
    "\n",
    "plt.figure(figsize=(12,5))\n",
    "plt.subplot(2,1,1)\n",
    "plt.title(\"Antes da remoção de outliers\")\n",
    "sns.lineplot(data=plot_df, y=\"casosNovos\", x='data')\n",
    "plt.xticks([])\n",
    "plt.xlabel(\"\")\n",
    "\n",
    "plt.subplot(2,1,2)\n",
    "plt.title(\"Depois da remoção de outliers\")\n",
    "sns.lineplot(data=plot_df_sem_outliers, y=\"casosNovos\", x='data')\n",
    "plt.xticks([])\n",
    "plt.xlabel(\"\")"
   ]
  },
  {
   "cell_type": "markdown",
   "id": "e057134c",
   "metadata": {},
   "source": [
    "# Recalcular casos acumulados"
   ]
  }
 ],
 "metadata": {
  "kernelspec": {
   "display_name": "env",
   "language": "python",
   "name": "python3"
  },
  "language_info": {
   "codemirror_mode": {
    "name": "ipython",
    "version": 3
   },
   "file_extension": ".py",
   "mimetype": "text/x-python",
   "name": "python",
   "nbconvert_exporter": "python",
   "pygments_lexer": "ipython3",
   "version": "3.11.9"
  }
 },
 "nbformat": 4,
 "nbformat_minor": 5
}
