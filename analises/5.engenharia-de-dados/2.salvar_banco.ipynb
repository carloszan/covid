{
 "cells": [
  {
   "cell_type": "markdown",
   "id": "4c6b0651",
   "metadata": {},
   "source": [
    "- [ ] Ler todos os arquivos\n",
    "- [ ] Separar por municipios\n",
    "- [ ] Aplicar funcao de limpeza\n",
    "- [ ] Salvar no banco"
   ]
  },
  {
   "cell_type": "markdown",
   "id": "3bdea103",
   "metadata": {},
   "source": [
    "# Funçao de limpeza"
   ]
  },
  {
   "cell_type": "code",
   "execution_count": null,
   "id": "4ca47b41",
   "metadata": {},
   "outputs": [],
   "source": [
    "def suavizar(df, window_size=3, threshold=2):\n",
    "    \"\"\"\n",
    "    Smooth data by replacing outliers with previous day's casosNovos.\n",
    "    \n",
    "    Parameters:\n",
    "    - df: pandas DataFrame with columns 'date' and 'casosNovos'\n",
    "    - window_size: number of days to consider in rolling window\n",
    "    - threshold: number of standard deviations to use for outlier detection\n",
    "    \n",
    "    Returns:\n",
    "    - DataFrame with smoothed values\n",
    "    \"\"\"\n",
    "    # Make a copy to avoid modifying original data\n",
    "    df_smoothed = df.copy()\n",
    "    \n",
    "    # Calculate rolling statistics\n",
    "    rolling_mean = df['casosNovos'].rolling(window=window_size, center=True, min_periods=1).mean()\n",
    "    rolling_std = df['casosNovos'].rolling(window=window_size, center=True, min_periods=1).std()\n",
    "    \n",
    "    # Identify outliers (values outside mean ± threshold*std)\n",
    "    lower_bound = rolling_mean - threshold * rolling_std\n",
    "    upper_bound = rolling_mean + threshold * rolling_std\n",
    "    \n",
    "    is_outlier = (df['casosNovos'] < lower_bound) | (df['casosNovos'] > upper_bound)\n",
    "    \n",
    "    # Replace outliers with previous day's value\n",
    "    df_smoothed['casosNovos'] = df['casosNovos'].where(~is_outlier, df['casosNovos'].shift(1))\n",
    "    \n",
    "    # For the first row (no previous value), use the next value if available\n",
    "    if is_outlier.iloc[0] and len(df) > 1:\n",
    "        df_smoothed.iloc[0, df_smoothed.columns.get_loc('casosNovos')] = df['casosNovos'].iloc[1]\n",
    "    \n",
    "    return df_smoothed"
   ]
  },
  {
   "cell_type": "markdown",
   "id": "4a04a786",
   "metadata": {},
   "source": [
    "# Recalcula casos acumulados"
   ]
  },
  {
   "cell_type": "code",
   "execution_count": null,
   "id": "0161b524",
   "metadata": {},
   "outputs": [],
   "source": [
    "def recalcula_casos_acumulados(df):\n",
    "  df['novos_casos_acumulados'] = df['casosNovos'].cumsum()\n",
    "  return df"
   ]
  },
  {
   "cell_type": "markdown",
   "id": "e2708dd0",
   "metadata": {},
   "source": [
    "# Função de limpeza"
   ]
  },
  {
   "cell_type": "code",
   "execution_count": null,
   "id": "0017244a",
   "metadata": {},
   "outputs": [],
   "source": [
    "def limpar(df):\n",
    "  df = suavizar(df)\n",
    "  df = recalcula_casos_acumulados(df)\n",
    "  return df"
   ]
  }
 ],
 "metadata": {
  "kernelspec": {
   "display_name": "env",
   "language": "python",
   "name": "python3"
  },
  "language_info": {
   "name": "python",
   "version": "3.11.9"
  }
 },
 "nbformat": 4,
 "nbformat_minor": 5
}
