{
 "cells": [
  {
   "cell_type": "code",
   "execution_count": 1,
   "metadata": {},
   "outputs": [],
   "source": [
    "import pandas as pd"
   ]
  },
  {
   "cell_type": "code",
   "execution_count": 2,
   "metadata": {},
   "outputs": [],
   "source": [
    "from sklearn.metrics import mean_absolute_error\n",
    "from sklearn.metrics import mean_squared_error\n",
    "from sklearn.metrics import root_mean_squared_error\n",
    "\n",
    "def read_and_print_errors(original, novo, chave):\n",
    "  original_df = pd.read_csv(original).fillna(0)\n",
    "  novo_df = pd.read_csv(novo).fillna(0)\n",
    "\n",
    "  mae = mean_absolute_error(original_df[chave], novo_df[chave])\n",
    "  mse = mean_squared_error(original_df[chave], novo_df[chave])\n",
    "  rmse = root_mean_squared_error(original_df[chave], novo_df[chave])\n",
    "\n",
    "  print(f'MAE: {mae:.2f}')\n",
    "  print(f'MSE: {mse:.2f}')\n",
    "  print(f'rmse: {rmse:.2f}')"
   ]
  },
  {
   "cell_type": "markdown",
   "metadata": {},
   "source": [
    "# MG"
   ]
  },
  {
   "cell_type": "code",
   "execution_count": 3,
   "metadata": {},
   "outputs": [
    {
     "name": "stdout",
     "output_type": "stream",
     "text": [
      "MAE: 0.00\n",
      "MSE: 0.00\n",
      "rmse: 0.00\n"
     ]
    }
   ],
   "source": [
    "read_and_print_errors('original/Te_nnCe.csv', 'novo/Te_nnCe.csv', 'nnCe')"
   ]
  },
  {
   "cell_type": "markdown",
   "metadata": {},
   "source": [
    "# Paracatu"
   ]
  },
  {
   "cell_type": "code",
   "execution_count": 4,
   "metadata": {},
   "outputs": [
    {
     "name": "stdout",
     "output_type": "stream",
     "text": [
      "MAE: 0.00\n",
      "MSE: 0.00\n",
      "rmse: 0.00\n"
     ]
    }
   ],
   "source": [
    "read_and_print_errors('original/Te_nnCc.csv', 'novo/Te_nnCc.csv', 'nnCc')"
   ]
  },
  {
   "cell_type": "markdown",
   "metadata": {},
   "source": [
    "# Difference"
   ]
  },
  {
   "cell_type": "code",
   "execution_count": 5,
   "metadata": {},
   "outputs": [
    {
     "name": "stdout",
     "output_type": "stream",
     "text": [
      "MAE: 0.00\n",
      "MSE: 0.00\n",
      "rmse: 0.00\n"
     ]
    }
   ],
   "source": [
    "read_and_print_errors('original/Te_d_nnC.csv', 'novo/Te_d_nnC.csv', 'd_nnC')"
   ]
  },
  {
   "cell_type": "markdown",
   "metadata": {},
   "source": [
    "# SSD"
   ]
  },
  {
   "cell_type": "code",
   "execution_count": 6,
   "metadata": {},
   "outputs": [
    {
     "name": "stdout",
     "output_type": "stream",
     "text": [
      "MAE: 0.00\n",
      "MSE: 0.00\n",
      "rmse: 0.00\n"
     ]
    }
   ],
   "source": [
    "read_and_print_errors('original/Te_ssd.csv', 'novo/Te_ssd.csv', 'ssd')"
   ]
  }
 ],
 "metadata": {
  "kernelspec": {
   "display_name": "venv",
   "language": "python",
   "name": "python3"
  },
  "language_info": {
   "codemirror_mode": {
    "name": "ipython",
    "version": 3
   },
   "file_extension": ".py",
   "mimetype": "text/x-python",
   "name": "python",
   "nbconvert_exporter": "python",
   "pygments_lexer": "ipython3",
   "version": "3.11.4"
  }
 },
 "nbformat": 4,
 "nbformat_minor": 2
}
