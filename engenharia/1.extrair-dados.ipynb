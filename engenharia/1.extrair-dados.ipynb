{
 "cells": [
  {
   "cell_type": "code",
   "execution_count": null,
   "metadata": {},
   "outputs": [],
   "source": [
    "import pandas as pd\n",
    "import zipfile\n",
    "import os"
   ]
  },
  {
   "cell_type": "markdown",
   "metadata": {},
   "source": [
    "# Zip"
   ]
  },
  {
   "cell_type": "code",
   "execution_count": null,
   "metadata": {},
   "outputs": [],
   "source": [
    "zip_file_path = 'HIST_PAINEL_COVIDBR_05out2024.zip'\n",
    "extract_to_dir = 'extraido'\n",
    "\n",
    "# Ensure the extraction directory exists\n",
    "os.makedirs(extract_to_dir, exist_ok=True)\n",
    "\n",
    "with zipfile.ZipFile(zip_file_path, 'r') as zip_ref:\n",
    "    zip_ref.extractall(extract_to_dir)"
   ]
  },
  {
   "cell_type": "markdown",
   "metadata": {},
   "source": [
    "# Rar"
   ]
  },
  {
   "cell_type": "code",
   "execution_count": null,
   "metadata": {},
   "outputs": [
    {
     "ename": "BadRarFile",
     "evalue": "Failed the read enough data: req=65536 got=51",
     "output_type": "error",
     "traceback": [
      "\u001b[0;31m---------------------------------------------------------------------------\u001b[0m\n",
      "\u001b[0;31mBadRarFile\u001b[0m                                Traceback (most recent call last)\n",
      "Cell \u001b[0;32mIn[13], line 10\u001b[0m\n",
      "\u001b[1;32m      7\u001b[0m os\u001b[38;5;241m.\u001b[39mmakedirs(extract_to_dir, exist_ok\u001b[38;5;241m=\u001b[39m\u001b[38;5;28;01mTrue\u001b[39;00m)\n",
      "\u001b[1;32m      9\u001b[0m \u001b[38;5;28;01mwith\u001b[39;00m rarfile\u001b[38;5;241m.\u001b[39mRarFile(zip_file_path, \u001b[38;5;124m'\u001b[39m\u001b[38;5;124mr\u001b[39m\u001b[38;5;124m'\u001b[39m) \u001b[38;5;28;01mas\u001b[39;00m rf:\n",
      "\u001b[0;32m---> 10\u001b[0m     \u001b[43mrf\u001b[49m\u001b[38;5;241;43m.\u001b[39;49m\u001b[43mextractall\u001b[49m\u001b[43m(\u001b[49m\u001b[43mpath\u001b[49m\u001b[38;5;241;43m=\u001b[39;49m\u001b[43mextract_to_dir\u001b[49m\u001b[43m)\u001b[49m\n",
      "\n",
      "File \u001b[0;32m~/Documents/git/covid/venv/lib/python3.11/site-packages/rarfile.py:886\u001b[0m, in \u001b[0;36mRarFile.extractall\u001b[0;34m(self, path, members, pwd)\u001b[0m\n",
      "\u001b[1;32m    884\u001b[0m \u001b[38;5;28;01mfor\u001b[39;00m m \u001b[38;5;129;01min\u001b[39;00m members:\n",
      "\u001b[1;32m    885\u001b[0m     inf \u001b[38;5;241m=\u001b[39m \u001b[38;5;28mself\u001b[39m\u001b[38;5;241m.\u001b[39mgetinfo(m)\n",
      "\u001b[0;32m--> 886\u001b[0m     dst \u001b[38;5;241m=\u001b[39m \u001b[38;5;28;43mself\u001b[39;49m\u001b[38;5;241;43m.\u001b[39;49m\u001b[43m_extract_one\u001b[49m\u001b[43m(\u001b[49m\u001b[43minf\u001b[49m\u001b[43m,\u001b[49m\u001b[43m \u001b[49m\u001b[43mpath\u001b[49m\u001b[43m,\u001b[49m\u001b[43m \u001b[49m\u001b[43mpwd\u001b[49m\u001b[43m,\u001b[49m\u001b[43m \u001b[49m\u001b[38;5;129;43;01mnot\u001b[39;49;00m\u001b[43m \u001b[49m\u001b[43minf\u001b[49m\u001b[38;5;241;43m.\u001b[39;49m\u001b[43mis_dir\u001b[49m\u001b[43m(\u001b[49m\u001b[43m)\u001b[49m\u001b[43m)\u001b[49m\n",
      "\u001b[1;32m    887\u001b[0m     \u001b[38;5;28;01mif\u001b[39;00m inf\u001b[38;5;241m.\u001b[39mis_dir():\n",
      "\u001b[1;32m    888\u001b[0m         \u001b[38;5;28;01mif\u001b[39;00m dst \u001b[38;5;129;01mnot\u001b[39;00m \u001b[38;5;129;01min\u001b[39;00m done:\n",
      "\n",
      "File \u001b[0;32m~/Documents/git/covid/venv/lib/python3.11/site-packages/rarfile.py:951\u001b[0m, in \u001b[0;36mRarFile._extract_one\u001b[0;34m(self, info, path, pwd, set_attrs)\u001b[0m\n",
      "\u001b[1;32m    948\u001b[0m     os\u001b[38;5;241m.\u001b[39mmakedirs(dirname, exist_ok\u001b[38;5;241m=\u001b[39m\u001b[38;5;28;01mTrue\u001b[39;00m)\n",
      "\u001b[1;32m    950\u001b[0m \u001b[38;5;28;01mif\u001b[39;00m info\u001b[38;5;241m.\u001b[39mis_file():\n",
      "\u001b[0;32m--> 951\u001b[0m     \u001b[38;5;28;01mreturn\u001b[39;00m \u001b[38;5;28;43mself\u001b[39;49m\u001b[38;5;241;43m.\u001b[39;49m\u001b[43m_make_file\u001b[49m\u001b[43m(\u001b[49m\u001b[43minfo\u001b[49m\u001b[43m,\u001b[49m\u001b[43m \u001b[49m\u001b[43mdstfn\u001b[49m\u001b[43m,\u001b[49m\u001b[43m \u001b[49m\u001b[43mpwd\u001b[49m\u001b[43m,\u001b[49m\u001b[43m \u001b[49m\u001b[43mset_attrs\u001b[49m\u001b[43m)\u001b[49m\n",
      "\u001b[1;32m    952\u001b[0m \u001b[38;5;28;01mif\u001b[39;00m info\u001b[38;5;241m.\u001b[39mis_dir():\n",
      "\u001b[1;32m    953\u001b[0m     \u001b[38;5;28;01mreturn\u001b[39;00m \u001b[38;5;28mself\u001b[39m\u001b[38;5;241m.\u001b[39m_make_dir(info, dstfn, pwd, set_attrs)\n",
      "\n",
      "File \u001b[0;32m~/Documents/git/covid/venv/lib/python3.11/site-packages/rarfile.py:966\u001b[0m, in \u001b[0;36mRarFile._make_file\u001b[0;34m(self, info, dstfn, pwd, set_attrs)\u001b[0m\n",
      "\u001b[1;32m    964\u001b[0m \u001b[38;5;28;01mwith\u001b[39;00m \u001b[38;5;28mself\u001b[39m\u001b[38;5;241m.\u001b[39mopen(info, \u001b[38;5;124m\"\u001b[39m\u001b[38;5;124mr\u001b[39m\u001b[38;5;124m\"\u001b[39m, pwd) \u001b[38;5;28;01mas\u001b[39;00m src:\n",
      "\u001b[1;32m    965\u001b[0m     \u001b[38;5;28;01mwith\u001b[39;00m \u001b[38;5;28mopen\u001b[39m(dstfn, \u001b[38;5;124m\"\u001b[39m\u001b[38;5;124mwb\u001b[39m\u001b[38;5;124m\"\u001b[39m, opener\u001b[38;5;241m=\u001b[39mhelper) \u001b[38;5;28;01mas\u001b[39;00m dst:\n",
      "\u001b[0;32m--> 966\u001b[0m         \u001b[43mshutil\u001b[49m\u001b[38;5;241;43m.\u001b[39;49m\u001b[43mcopyfileobj\u001b[49m\u001b[43m(\u001b[49m\u001b[43msrc\u001b[49m\u001b[43m,\u001b[49m\u001b[43m \u001b[49m\u001b[43mdst\u001b[49m\u001b[43m)\u001b[49m\n",
      "\u001b[1;32m    967\u001b[0m \u001b[38;5;28;01mif\u001b[39;00m set_attrs:\n",
      "\u001b[1;32m    968\u001b[0m     \u001b[38;5;28mself\u001b[39m\u001b[38;5;241m.\u001b[39m_set_attrs(info, dstfn)\n",
      "\n",
      "File \u001b[0;32m/opt/homebrew/Cellar/python@3.11/3.11.2_1/Frameworks/Python.framework/Versions/3.11/lib/python3.11/shutil.py:197\u001b[0m, in \u001b[0;36mcopyfileobj\u001b[0;34m(fsrc, fdst, length)\u001b[0m\n",
      "\u001b[1;32m    195\u001b[0m fdst_write \u001b[38;5;241m=\u001b[39m fdst\u001b[38;5;241m.\u001b[39mwrite\n",
      "\u001b[1;32m    196\u001b[0m \u001b[38;5;28;01mwhile\u001b[39;00m \u001b[38;5;28;01mTrue\u001b[39;00m:\n",
      "\u001b[0;32m--> 197\u001b[0m     buf \u001b[38;5;241m=\u001b[39m \u001b[43mfsrc_read\u001b[49m\u001b[43m(\u001b[49m\u001b[43mlength\u001b[49m\u001b[43m)\u001b[49m\n",
      "\u001b[1;32m    198\u001b[0m     \u001b[38;5;28;01mif\u001b[39;00m \u001b[38;5;129;01mnot\u001b[39;00m buf:\n",
      "\u001b[1;32m    199\u001b[0m         \u001b[38;5;28;01mbreak\u001b[39;00m\n",
      "\n",
      "File \u001b[0;32m~/Documents/git/covid/venv/lib/python3.11/site-packages/rarfile.py:2305\u001b[0m, in \u001b[0;36mRarExtFile.read\u001b[0;34m(self, n)\u001b[0m\n",
      "\u001b[1;32m   2303\u001b[0m data \u001b[38;5;241m=\u001b[39m \u001b[38;5;124mb\u001b[39m\u001b[38;5;124m\"\u001b[39m\u001b[38;5;124m\"\u001b[39m\u001b[38;5;241m.\u001b[39mjoin(buf)\n",
      "\u001b[1;32m   2304\u001b[0m \u001b[38;5;28;01mif\u001b[39;00m n \u001b[38;5;241m>\u001b[39m \u001b[38;5;241m0\u001b[39m:\n",
      "\u001b[0;32m-> 2305\u001b[0m     \u001b[38;5;28;01mraise\u001b[39;00m BadRarFile(\u001b[38;5;124m\"\u001b[39m\u001b[38;5;124mFailed the read enough data: req=\u001b[39m\u001b[38;5;132;01m%d\u001b[39;00m\u001b[38;5;124m got=\u001b[39m\u001b[38;5;132;01m%d\u001b[39;00m\u001b[38;5;124m\"\u001b[39m \u001b[38;5;241m%\u001b[39m (orig, \u001b[38;5;28mlen\u001b[39m(data)))\n",
      "\u001b[1;32m   2307\u001b[0m \u001b[38;5;66;03m# done?\u001b[39;00m\n",
      "\u001b[1;32m   2308\u001b[0m \u001b[38;5;28;01mif\u001b[39;00m \u001b[38;5;129;01mnot\u001b[39;00m data \u001b[38;5;129;01mor\u001b[39;00m \u001b[38;5;28mself\u001b[39m\u001b[38;5;241m.\u001b[39m_remain \u001b[38;5;241m==\u001b[39m \u001b[38;5;241m0\u001b[39m:\n",
      "\u001b[1;32m   2309\u001b[0m     \u001b[38;5;66;03m# self.close()\u001b[39;00m\n",
      "\n",
      "\u001b[0;31mBadRarFile\u001b[0m: Failed the read enough data: req=65536 got=51"
     ]
    }
   ],
   "source": [
    "import rarfile\n",
    "\n",
    "rar_file_path = 'HIST_PAINEL_COVIDBR_12out2024.rar'\n",
    "extract_to_dir = 'extraido'\n",
    "\n",
    "# Ensure the extraction directory exists\n",
    "os.makedirs(extract_to_dir, exist_ok=True)\n",
    "\n",
    "with rarfile.RarFile(zip_file_path, 'r') as rf:\n",
    "    rf.extractall(path=extract_to_dir)"
   ]
  }
 ],
 "metadata": {
  "language_info": {
   "name": "python"
  }
 },
 "nbformat": 4,
 "nbformat_minor": 2
}
