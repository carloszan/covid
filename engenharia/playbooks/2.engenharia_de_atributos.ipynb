{
 "cells": [
  {
   "cell_type": "code",
   "execution_count": null,
   "id": "e9d68f1d",
   "metadata": {},
   "outputs": [],
   "source": [
    "PASTA = './../dados'"
   ]
  },
  {
   "cell_type": "code",
   "execution_count": 2,
   "id": "28e71529",
   "metadata": {},
   "outputs": [
    {
     "data": {
      "text/plain": [
       "10298930"
      ]
     },
     "execution_count": 2,
     "metadata": {},
     "output_type": "execute_result"
    }
   ],
   "source": [
    "import pandas as pd\n",
    "\n",
    "df = pd.read_parquet(f'{PASTA}/1.limpo.parquet').astype({'data': 'datetime64[ns]'})\n",
    "len(df)"
   ]
  },
  {
   "cell_type": "code",
   "execution_count": 3,
   "id": "2245afb6",
   "metadata": {},
   "outputs": [],
   "source": [
    "def remover_colunas(df):\n",
    "  df.drop(columns=[\"Recuperadosnovos\", \"emAcompanhamentoNovos\"], inplace=True)\n",
    "  return df"
   ]
  },
  {
   "cell_type": "code",
   "execution_count": null,
   "id": "673f788d",
   "metadata": {},
   "outputs": [],
   "source": [
    "def obter_estacao(data):\n",
    "    ano = data.year\n",
    "    datas_estacoes = {\n",
    "        \"verao\": pd.Timestamp(f\"{ano}-12-21\"),\n",
    "        \"outono\": pd.Timestamp(f\"{ano}-3-21\"),\n",
    "        \"inverno\": pd.Timestamp(f\"{ano}-6-21\"),\n",
    "        \"primavera\": pd.Timestamp(f\"{ano}-9-21\"),\n",
    "    }\n",
    "\n",
    "    if data >= datas_estacoes[\"verao\"] or data < datas_estacoes[\"outono\"]:\n",
    "        return \"Verão\"\n",
    "    elif data >= datas_estacoes[\"outono\"] and data < datas_estacoes[\"inverno\"]:\n",
    "        return \"Outono\"\n",
    "    elif data >= datas_estacoes[\"inverno\"] and data < datas_estacoes[\"primavera\"]:\n",
    "        return \"Inverno\"\n",
    "    else:\n",
    "        return \"Primavera\"\n",
    "\n",
    "def traduzir_dias_da_semana(ingles):\n",
    "  portugues = {\n",
    "     \"Sunday\": \"Domingo\",\n",
    "     \"Monday\": \"Segunda-feira\",\n",
    "     \"Tuesday\": \"Terça-feira\",\n",
    "     \"Wednesday\": \"Quarta-feira\",\n",
    "     \"Thursday\": \"Quinta-feira\",\n",
    "     \"Friday\": \"Sexta-feira\",\n",
    "     \"Saturday\": \"Sábado\"\n",
    "  }\n",
    "\n",
    "  return portugues[ingles]\n",
    "\n",
    "def traduzir_mes(ingles):\n",
    "  portuguese = {\n",
    "      \"January\": \"Janeiro\",\n",
    "      \"February\": \"Fevereiro\",\n",
    "      \"March\": \"Março\",\n",
    "      \"April\": \"Abril\",\n",
    "      \"May\": \"Maio\",\n",
    "      \"June\": \"Junho\",\n",
    "      \"July\": \"Julho\",\n",
    "      \"August\": \"Agosto\",\n",
    "      \"September\": \"Setembro\",\n",
    "      \"October\": \"Outubro\",\n",
    "      \"November\": \"Novembro\",\n",
    "      \"December\": \"Dezembro\"\n",
    "  }\n",
    "\n",
    "  return portuguese[ingles]\n",
    "\n",
    "def adicionar_feature_datas(df):\n",
    "    novo_df = df.copy()\n",
    "\n",
    "    novo_df[\"ano\"] = novo_df.data.dt.year\n",
    "    novo_df[\"mes\"] = novo_df.data.dt.month_name()\n",
    "    novo_df[\"mes_numerico\"] = novo_df.data.dt.month\n",
    "    novo_df[\"mes_traduzido\"] = novo_df[\"mes\"].apply(traduzir_mes)\n",
    "    novo_df[\"dia_semana\"] = novo_df.data.dt.day_name()\n",
    "    novo_df[\"dia_semana_traduzido\"] = novo_df[\"dia_semana\"].apply(\n",
    "        traduzir_dias_da_semana)\n",
    "    novo_df[\"dia_semana_numerico\"] = novo_df.data.dt.day_of_week\n",
    "    novo_df[\"estacao\"] = novo_df[\"data\"].apply(obter_estacao)\n",
    "\n",
    "    return novo_df"
   ]
  },
  {
   "cell_type": "code",
   "execution_count": 5,
   "id": "567c79e0",
   "metadata": {},
   "outputs": [],
   "source": [
    "colunas = {\n",
    "    'regiao': 'regiao',\n",
    "    'estado': 'estado',\n",
    "    'municipio': 'municipio',\n",
    "    'coduf': 'coduf',\n",
    "    'codmun': 'codmun',\n",
    "    'codRegiaoSaude': 'cod_regiao_saude',\n",
    "    'nomeRegiaoSaude': 'nome_regiao_saude',\n",
    "    'data': 'data',\n",
    "    'semanaEpi': 'semana_epi',\n",
    "    'populacaoTCU2019': 'populacao_tcu_2019',\n",
    "    'casosAcumulado': 'casos_acumulados',\n",
    "    'casosNovos': 'casos_novos',\n",
    "    'novos_casos_novos': 'novos_casos_novos',\n",
    "    'obitosAcumulado': 'obitos_acumulados',\n",
    "    'obitosNovos': 'obitos_novos',\n",
    "    'Recuperadosnovos': 'recuperados_novos',\n",
    "    'emAcompanhamentoNovos': 'em_acompanhamento_novos',\n",
    "    'interior/metropolitana': 'interior_metropolitana',\n",
    "    'novos_casos_acumulados': 'novos_casos_acumulados'\n",
    "}\n",
    "\n",
    "def limpar_nomes_de_colunas(df):\n",
    "  return df.rename(columns=colunas)"
   ]
  },
  {
   "cell_type": "code",
   "execution_count": 6,
   "id": "77c77d4f",
   "metadata": {},
   "outputs": [
    {
     "data": {
      "text/plain": [
       "10298930"
      ]
     },
     "execution_count": 6,
     "metadata": {},
     "output_type": "execute_result"
    }
   ],
   "source": [
    "def rodar_engenharia_de_atributos(df):\n",
    "  df = remover_colunas(df)\n",
    "  df = adicionar_feature_datas(df)\n",
    "  df = limpar_nomes_de_colunas(df)\n",
    "\n",
    "  return df\n",
    "\n",
    "\n",
    "df = rodar_engenharia_de_atributos(df)\n",
    "len(df)"
   ]
  },
  {
   "cell_type": "code",
   "execution_count": 7,
   "id": "e195ad84",
   "metadata": {},
   "outputs": [
    {
     "data": {
      "text/plain": [
       "Index(['regiao', 'estado', 'municipio', 'coduf', 'codmun', 'cod_regiao_saude',\n",
       "       'nome_regiao_saude', 'data', 'semana_epi', 'populacao_tcu_2019',\n",
       "       'casos_acumulados', 'casos_novos', 'obitos_acumulados', 'obitos_novos',\n",
       "       'interior_metropolitana', 'novos_casos_novos', 'novos_casos_acumulados',\n",
       "       'mes', 'mes_traduzido', 'dia_semana', 'dia_semana_traduzido',\n",
       "       'estacao'],\n",
       "      dtype='object')"
      ]
     },
     "execution_count": 7,
     "metadata": {},
     "output_type": "execute_result"
    }
   ],
   "source": [
    "df.columns"
   ]
  },
  {
   "cell_type": "code",
   "execution_count": null,
   "id": "1db90449",
   "metadata": {},
   "outputs": [],
   "source": [
    "df.to_parquet(\n",
    "  f'{PASTA}/2.atributos.parquet',\n",
    "  engine='pyarrow',\n",
    "  coerce_timestamps='ms',\n",
    "  allow_truncated_timestamps=True,\n",
    "  index=False\n",
    ")"
   ]
  }
 ],
 "metadata": {
  "kernelspec": {
   "display_name": "env",
   "language": "python",
   "name": "python3"
  },
  "language_info": {
   "codemirror_mode": {
    "name": "ipython",
    "version": 3
   },
   "file_extension": ".py",
   "mimetype": "text/x-python",
   "name": "python",
   "nbconvert_exporter": "python",
   "pygments_lexer": "ipython3",
   "version": "3.11.9"
  }
 },
 "nbformat": 4,
 "nbformat_minor": 5
}
