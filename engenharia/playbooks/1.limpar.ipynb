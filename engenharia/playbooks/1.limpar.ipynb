{
 "cells": [
  {
   "cell_type": "markdown",
   "id": "3089a3d0",
   "metadata": {},
   "source": [
    "- [ ] Ler todos os arquivos\n",
    "- [ ] Separar por municipios\n",
    "- [ ] Aplicar funcao de limpeza\n",
    "- [ ] Salvar no banco"
   ]
  },
  {
   "cell_type": "code",
   "execution_count": 1,
   "id": "d0f9d572",
   "metadata": {},
   "outputs": [],
   "source": [
    "PASTA = './../dados'"
   ]
  },
  {
   "cell_type": "markdown",
   "id": "9f6d3fb8",
   "metadata": {},
   "source": [
    "# Ler Arquivo"
   ]
  },
  {
   "cell_type": "code",
   "execution_count": 2,
   "id": "2604a840",
   "metadata": {},
   "outputs": [],
   "source": [
    "import pandas as pd\n",
    "\n",
    "df = pd.read_parquet(f'{PASTA}/0.raw.parquet')"
   ]
  },
  {
   "cell_type": "markdown",
   "id": "3a561bf9",
   "metadata": {},
   "source": [
    "# Funçao suavizar"
   ]
  },
  {
   "cell_type": "code",
   "execution_count": 3,
   "id": "dd615401",
   "metadata": {},
   "outputs": [],
   "source": [
    "def suavizar(df, window_size=3, threshold=2):\n",
    "    \"\"\"\n",
    "    Smooth data by replacing outliers with previous day's casosNovos.\n",
    "    municipio, estado must be unique.\n",
    "    \n",
    "    Parameters:\n",
    "    - df: pandas DataFrame with columns 'date' and 'casosNovos'\n",
    "    - window_size: number of days to consider in rolling window\n",
    "    - threshold: number of standard deviations to use for outlier detection\n",
    "    \n",
    "    Returns:\n",
    "    - DataFrame with smoothed values in the column 'novos_casos_novos'\n",
    "    \"\"\"\n",
    "    # Make a copy to avoid modifying original data\n",
    "    df_smoothed = df.copy()\n",
    "\n",
    "    df['novos_casos_novos'] = df['casosNovos']\n",
    "    \n",
    "    # Calculate rolling statistics\n",
    "    rolling_mean = df['novos_casos_novos'].rolling(window=window_size, center=True, min_periods=1).mean()\n",
    "    rolling_std = df['novos_casos_novos'].rolling(window=window_size, center=True, min_periods=1).std()\n",
    "    \n",
    "    # Identify outliers (values outside mean ± threshold*std)\n",
    "    lower_bound = rolling_mean - threshold * rolling_std\n",
    "    upper_bound = rolling_mean + threshold * rolling_std\n",
    "    \n",
    "    is_outlier = (df['novos_casos_novos'] < lower_bound) | (df['novos_casos_novos'] > upper_bound)\n",
    "    \n",
    "    # Replace outliers with previous day's value\n",
    "    df_smoothed['novos_casos_novos'] = df['novos_casos_novos'].where(~is_outlier, df['novos_casos_novos'].shift(1))\n",
    "    df_smoothed['novos_casos_novos'] = df['novos_casos_novos'].where(~is_outlier, df['novos_casos_novos'].shift(1))\n",
    "    \n",
    "    # For the first row (no previous value), use the next value if available\n",
    "    if is_outlier.iloc[0] and len(df) > 1:\n",
    "        df_smoothed.iloc[0, df_smoothed.columns.get_loc('novos_casos_novos')] = df['novos_casos_novos'].iloc[1]\n",
    "    \n",
    "    return df_smoothed"
   ]
  },
  {
   "cell_type": "markdown",
   "id": "25c5bd3a",
   "metadata": {},
   "source": [
    "# Função remoção de outlier por z-score"
   ]
  },
  {
   "cell_type": "code",
   "execution_count": 4,
   "id": "3815170b",
   "metadata": {},
   "outputs": [],
   "source": [
    "from sklearn.preprocessing import StandardScaler\n",
    "\n",
    "def remover_por_zscore(df):\n",
    "    scaler = StandardScaler()\n",
    "    LIMITE_COMUM = 1\n",
    "\n",
    "    df[\"z_score\"] = scaler.fit_transform(df[['novos_casos_novos']])\n",
    "    df_sem_outliers = df[abs(df[\"z_score\"]) < LIMITE_COMUM]\n",
    "\n",
    "    return df_sem_outliers"
   ]
  },
  {
   "cell_type": "markdown",
   "id": "fd406963",
   "metadata": {},
   "source": [
    "# Recalcula casos acumulados"
   ]
  },
  {
   "cell_type": "code",
   "execution_count": 5,
   "id": "cd8003e0",
   "metadata": {},
   "outputs": [],
   "source": [
    "def recalcula_casos_acumulados(df):\n",
    "  df['novos_casos_acumulados'] = df['novos_casos_novos'].cumsum()\n",
    "  return df"
   ]
  },
  {
   "cell_type": "markdown",
   "id": "c170c718",
   "metadata": {},
   "source": [
    "# Função de limpeza"
   ]
  },
  {
   "cell_type": "code",
   "execution_count": null,
   "id": "a37eb134",
   "metadata": {},
   "outputs": [],
   "source": [
    "def limpar(df):\n",
    "  df = suavizar(df, window_size=5)\n",
    "  df = remover_por_zscore(df)\n",
    "  df = recalcula_casos_acumulados(df)\n",
    "  return df"
   ]
  },
  {
   "cell_type": "markdown",
   "id": "7eb4f94a",
   "metadata": {},
   "source": [
    "# Função principal - sincrona e csv"
   ]
  },
  {
   "cell_type": "code",
   "execution_count": 7,
   "id": "acb14e8c",
   "metadata": {},
   "outputs": [],
   "source": [
    "import logging\n",
    "\n",
    "logging.basicConfig(\n",
    "    level=logging.INFO,\n",
    "    format='%(asctime)s - %(levelname)s - %(message)s',\n",
    "    datefmt='%Y-%m-%d %H:%M:%S',\n",
    ")"
   ]
  },
  {
   "cell_type": "code",
   "execution_count": 8,
   "id": "a7f56d62",
   "metadata": {},
   "outputs": [],
   "source": [
    "from tqdm import tqdm\n",
    "\n",
    "def rodar(df):\n",
    "    logging.info(\"Processando filtrar_regiao\")\n",
    "    df = df[df.regiao == \"Sudeste\"]\n",
    "    logging.info(\"Processamento concluído\")\n",
    "\n",
    "    logging.info(\"Processando municipios_unicos\")\n",
    "    municipios_unicos = set(zip(df['municipio'], df['estado']))\n",
    "    logging.info(\"Processamento concluído\")\n",
    "    \n",
    "    logging.info(\"Filtrando o dataframe \")\n",
    "    mascara = df.apply(lambda x: (x['municipio'], x['estado']) in municipios_unicos, axis=1)\n",
    "    filtrado_df = df[mascara]\n",
    "    logging.info(\"Processamento concluído\")\n",
    "    \n",
    "    logging.info(\"Processando grupos\")\n",
    "    agrupado = filtrado_df.groupby(['municipio', 'estado'])\n",
    "    logging.info(\"Processamento concluído\")\n",
    "\n",
    "    resultado_df = []\n",
    "    \n",
    "    for (municipio, estado), group_df in tqdm(agrupado, desc=\"Processando\"):\n",
    "        try:\n",
    "            resultado_df.append(limpar(group_df))\n",
    "        except Exception as e:\n",
    "            logging.error(f\"{estado}_{municipio} não foi salvo\")\n",
    "            logging.error(e)\n",
    "    \n",
    "    resultado_df = pd.concat(resultado_df)\n",
    "    return resultado_df"
   ]
  },
  {
   "cell_type": "code",
   "execution_count": 9,
   "id": "7fbfa573",
   "metadata": {},
   "outputs": [
    {
     "name": "stderr",
     "output_type": "stream",
     "text": [
      "2025-06-16 18:16:59 - INFO - Processando filtrar_regiao\n",
      "2025-06-16 18:17:01 - INFO - Processamento concluído\n",
      "2025-06-16 18:17:01 - INFO - Processando municipios_unicos\n",
      "2025-06-16 18:17:01 - INFO - Processamento concluído\n",
      "2025-06-16 18:17:01 - INFO - Filtrando o dataframe \n",
      "2025-06-16 18:17:33 - INFO - Processamento concluído\n",
      "2025-06-16 18:17:33 - INFO - Processando grupos\n",
      "2025-06-16 18:17:33 - INFO - Processamento concluído\n",
      "Processando: 100%|█████████▉| 1668/1672 [00:16<00:00, 100.29it/s]\n"
     ]
    }
   ],
   "source": [
    "processado_df = rodar(df)"
   ]
  },
  {
   "cell_type": "code",
   "execution_count": 10,
   "id": "46998985",
   "metadata": {},
   "outputs": [],
   "source": [
    "processado_df.to_parquet(f'{PASTA}/1.limpo.parquet', index=False)"
   ]
  },
  {
   "cell_type": "code",
   "execution_count": 11,
   "id": "792fb3af",
   "metadata": {},
   "outputs": [
    {
     "data": {
      "text/plain": [
       "True"
      ]
     },
     "execution_count": 11,
     "metadata": {},
     "output_type": "execute_result"
    }
   ],
   "source": [
    "data_set = set(zip(df['municipio'], df['estado']))\n",
    "\n",
    "contains_none = any(None in pair for pair in data_set)\n",
    "contains_none"
   ]
  },
  {
   "cell_type": "code",
   "execution_count": 12,
   "id": "3dbbd61e",
   "metadata": {},
   "outputs": [
    {
     "data": {
      "text/plain": [
       "[(None, 'BA'),\n",
       " (None, 'PR'),\n",
       " (None, 'RR'),\n",
       " (None, 'PA'),\n",
       " (None, 'PB'),\n",
       " (None, 'SE'),\n",
       " (None, 'MS'),\n",
       " (None, 'RJ'),\n",
       " (None, 'MT'),\n",
       " (None, None),\n",
       " (None, 'PE'),\n",
       " (None, 'PI'),\n",
       " (None, 'MA'),\n",
       " (None, 'AP'),\n",
       " (None, 'SP'),\n",
       " (None, 'DF'),\n",
       " (None, 'RO'),\n",
       " (None, 'AM'),\n",
       " (None, 'CE'),\n",
       " (None, 'TO'),\n",
       " (None, 'GO'),\n",
       " (None, 'AL'),\n",
       " (None, 'RN'),\n",
       " (None, 'MG'),\n",
       " (None, 'AC'),\n",
       " (None, 'SC'),\n",
       " (None, 'RS'),\n",
       " (None, 'ES')]"
      ]
     },
     "execution_count": 12,
     "metadata": {},
     "output_type": "execute_result"
    }
   ],
   "source": [
    "none_tuples = [pair for pair in data_set if None in pair]\n",
    "none_tuples"
   ]
  },
  {
   "cell_type": "code",
   "execution_count": 13,
   "id": "82158d6f",
   "metadata": {},
   "outputs": [
    {
     "data": {
      "text/plain": [
       "regiao                           0\n",
       "estado                        1874\n",
       "municipio                    91175\n",
       "coduf                            0\n",
       "codmun                       52472\n",
       "codRegiaoSaude               91175\n",
       "nomeRegiaoSaude              91175\n",
       "data                             0\n",
       "semanaEpi                        0\n",
       "populacaoTCU2019             38703\n",
       "casosAcumulado                   0\n",
       "casosNovos                       0\n",
       "obitosAcumulado                  0\n",
       "obitosNovos                      0\n",
       "Recuperadosnovos          10354813\n",
       "emAcompanhamentoNovos     10354813\n",
       "interior/metropolitana       91175\n",
       "dtype: int64"
      ]
     },
     "execution_count": 13,
     "metadata": {},
     "output_type": "execute_result"
    }
   ],
   "source": [
    "nan_counts = df.isna().sum()\n",
    "nan_counts"
   ]
  },
  {
   "cell_type": "code",
   "execution_count": 14,
   "id": "8dcb2625",
   "metadata": {},
   "outputs": [
    {
     "data": {
      "text/plain": [
       "0           True\n",
       "1           True\n",
       "2           True\n",
       "3           True\n",
       "4           True\n",
       "            ... \n",
       "10356680    True\n",
       "10356681    True\n",
       "10356682    True\n",
       "10356683    True\n",
       "10356684    True\n",
       "Length: 10356685, dtype: bool"
      ]
     },
     "execution_count": 14,
     "metadata": {},
     "output_type": "execute_result"
    }
   ],
   "source": [
    "df.apply(lambda x: (x['municipio'], x['estado']) in data_set, axis=1)"
   ]
  }
 ],
 "metadata": {
  "kernelspec": {
   "display_name": "covid",
   "language": "python",
   "name": "python3"
  },
  "language_info": {
   "codemirror_mode": {
    "name": "ipython",
    "version": 3
   },
   "file_extension": ".py",
   "mimetype": "text/x-python",
   "name": "python",
   "nbconvert_exporter": "python",
   "pygments_lexer": "ipython3",
   "version": "3.13.2"
  }
 },
 "nbformat": 4,
 "nbformat_minor": 5
}
