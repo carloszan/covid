{
 "cells": [
  {
   "cell_type": "markdown",
   "id": "3089a3d0",
   "metadata": {},
   "source": [
    "- [ ] Ler todos os arquivos\n",
    "- [ ] Separar por municipios\n",
    "- [ ] Aplicar funcao de limpeza\n",
    "- [ ] Salvar no banco"
   ]
  },
  {
   "cell_type": "code",
   "execution_count": 1,
   "id": "d0f9d572",
   "metadata": {},
   "outputs": [],
   "source": [
    "PASTA = 'dados'"
   ]
  },
  {
   "cell_type": "markdown",
   "id": "9f6d3fb8",
   "metadata": {},
   "source": [
    "# Ler Arquivo"
   ]
  },
  {
   "cell_type": "code",
   "execution_count": 2,
   "id": "2604a840",
   "metadata": {},
   "outputs": [],
   "source": [
    "import pandas as pd\n",
    "\n",
    "df = pd.read_parquet(f'{PASTA}/0.raw.parquet')"
   ]
  },
  {
   "cell_type": "markdown",
   "id": "3a561bf9",
   "metadata": {},
   "source": [
    "# Funçao suavizar"
   ]
  },
  {
   "cell_type": "code",
   "execution_count": 3,
   "id": "dd615401",
   "metadata": {},
   "outputs": [],
   "source": [
    "def suavizar(df, window_size=3, threshold=2):\n",
    "    \"\"\"\n",
    "    Smooth data by replacing outliers with previous day's casosNovos.\n",
    "    municipio, estado must be unique.\n",
    "    \n",
    "    Parameters:\n",
    "    - df: pandas DataFrame with columns 'date' and 'casosNovos'\n",
    "    - window_size: number of days to consider in rolling window\n",
    "    - threshold: number of standard deviations to use for outlier detection\n",
    "    \n",
    "    Returns:\n",
    "    - DataFrame with smoothed values in the column 'novos_casos_novos'\n",
    "    \"\"\"\n",
    "    # Make a copy to avoid modifying original data\n",
    "    df_smoothed = df.copy()\n",
    "\n",
    "    df['novos_casos_novos'] = df['casosNovos']\n",
    "    \n",
    "    # Calculate rolling statistics\n",
    "    rolling_mean = df['novos_casos_novos'].rolling(window=window_size, center=True, min_periods=1).mean()\n",
    "    rolling_std = df['novos_casos_novos'].rolling(window=window_size, center=True, min_periods=1).std()\n",
    "    \n",
    "    # Identify outliers (values outside mean ± threshold*std)\n",
    "    lower_bound = rolling_mean - threshold * rolling_std\n",
    "    upper_bound = rolling_mean + threshold * rolling_std\n",
    "    \n",
    "    is_outlier = (df['novos_casos_novos'] < lower_bound) | (df['novos_casos_novos'] > upper_bound)\n",
    "    \n",
    "    # Replace outliers with previous day's value\n",
    "    df_smoothed['novos_casos_novos'] = df['novos_casos_novos'].where(~is_outlier, df['novos_casos_novos'].shift(1))\n",
    "    df_smoothed['novos_casos_novos'] = df['novos_casos_novos'].where(~is_outlier, df['novos_casos_novos'].shift(1))\n",
    "    \n",
    "    # For the first row (no previous value), use the next value if available\n",
    "    if is_outlier.iloc[0] and len(df) > 1:\n",
    "        df_smoothed.iloc[0, df_smoothed.columns.get_loc('novos_casos_novos')] = df['novos_casos_novos'].iloc[1]\n",
    "    \n",
    "    return df_smoothed"
   ]
  },
  {
   "cell_type": "markdown",
   "id": "fd406963",
   "metadata": {},
   "source": [
    "# Recalcula casos acumulados"
   ]
  },
  {
   "cell_type": "code",
   "execution_count": 4,
   "id": "cd8003e0",
   "metadata": {},
   "outputs": [],
   "source": [
    "def recalcula_casos_acumulados(df):\n",
    "  df['novos_casos_acumulados'] = df['casosNovos'].cumsum()\n",
    "  return df"
   ]
  },
  {
   "cell_type": "markdown",
   "id": "c170c718",
   "metadata": {},
   "source": [
    "# Função de limpeza"
   ]
  },
  {
   "cell_type": "code",
   "execution_count": 5,
   "id": "a37eb134",
   "metadata": {},
   "outputs": [],
   "source": [
    "def limpar(df):\n",
    "  df = suavizar(df)\n",
    "  df = recalcula_casos_acumulados(df)\n",
    "  return df"
   ]
  },
  {
   "cell_type": "markdown",
   "id": "7eb4f94a",
   "metadata": {},
   "source": [
    "# Função principal - sincrona e csv"
   ]
  },
  {
   "cell_type": "code",
   "execution_count": 6,
   "id": "acb14e8c",
   "metadata": {},
   "outputs": [],
   "source": [
    "import logging\n",
    "\n",
    "logging.basicConfig(\n",
    "    level=logging.INFO,\n",
    "    format='%(asctime)s - %(levelname)s - %(message)s',\n",
    "    datefmt='%Y-%m-%d %H:%M:%S',\n",
    ")"
   ]
  },
  {
   "cell_type": "code",
   "execution_count": 7,
   "id": "a7f56d62",
   "metadata": {},
   "outputs": [],
   "source": [
    "from tqdm import tqdm\n",
    "\n",
    "def rodar(df):\n",
    "    logging.info(\"Processando municipios_unicos\")\n",
    "    municipios_unicos = set(zip(df['municipio'], df['estado']))\n",
    "    logging.info(\"Processamento concluído\")\n",
    "    \n",
    "    logging.info(\"Filtrando o dataframe \")\n",
    "    mascara = df.apply(lambda x: (x['municipio'], x['estado']) in municipios_unicos, axis=1)\n",
    "    filtrado_df = df[mascara]\n",
    "    logging.info(\"Processamento concluído\")\n",
    "    \n",
    "    logging.info(\"Processando grupos\")\n",
    "    agrupado = filtrado_df.groupby(['municipio', 'estado'])\n",
    "    logging.info(\"Processamento concluído\")\n",
    "\n",
    "    resultado_df = []\n",
    "    \n",
    "    for (municipio, estado), group_df in tqdm(agrupado, desc=\"Processando\"):\n",
    "        try:\n",
    "            resultado_df.append(limpar(group_df))\n",
    "        except Exception as e:\n",
    "            logging.error(f\"{estado}_{municipio} não foi salvo\")\n",
    "            logging.error(e)\n",
    "    \n",
    "    resultado_df = pd.concat(resultado_df)\n",
    "    return resultado_df"
   ]
  },
  {
   "cell_type": "code",
   "execution_count": 8,
   "id": "7fbfa573",
   "metadata": {},
   "outputs": [
    {
     "name": "stderr",
     "output_type": "stream",
     "text": [
      "2025-05-12 10:28:21 - INFO - Processando municipios_unicos\n",
      "2025-05-12 10:28:24 - INFO - Processamento concluído\n",
      "2025-05-12 10:28:24 - INFO - Filtrando o dataframe \n",
      "2025-05-12 10:29:31 - INFO - Processamento concluído\n",
      "2025-05-12 10:29:31 - INFO - Processando grupos\n",
      "2025-05-12 10:29:31 - INFO - Processamento concluído\n",
      "Processando:  99%|█████████▉| 5570/5598 [00:13<00:00, 399.53it/s]\n"
     ]
    }
   ],
   "source": [
    "processado_df = rodar(df)"
   ]
  },
  {
   "cell_type": "code",
   "execution_count": 9,
   "id": "46998985",
   "metadata": {},
   "outputs": [],
   "source": [
    "processado_df.to_parquet(f'{PASTA}/1.limpo.parquet', index=False)"
   ]
  }
 ],
 "metadata": {
  "kernelspec": {
   "display_name": "env",
   "language": "python",
   "name": "python3"
  },
  "language_info": {
   "codemirror_mode": {
    "name": "ipython",
    "version": 3
   },
   "file_extension": ".py",
   "mimetype": "text/x-python",
   "name": "python",
   "nbconvert_exporter": "python",
   "pygments_lexer": "ipython3",
   "version": "3.11.9"
  }
 },
 "nbformat": 4,
 "nbformat_minor": 5
}
