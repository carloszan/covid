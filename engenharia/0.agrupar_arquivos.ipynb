{
 "cells": [
  {
   "cell_type": "code",
   "execution_count": 1,
   "id": "6be28b9f",
   "metadata": {},
   "outputs": [],
   "source": [
    "PASTA = 'dados'"
   ]
  },
  {
   "cell_type": "code",
   "execution_count": 2,
   "id": "7f878e2c",
   "metadata": {},
   "outputs": [
    {
     "name": "stdout",
     "output_type": "stream",
     "text": [
      "HIST_PAINEL_COVIDBR_2020_Parte1_18abr2025.csv\n",
      "HIST_PAINEL_COVIDBR_2020_Parte2_18abr2025.csv\n",
      "HIST_PAINEL_COVIDBR_2021_Parte1_18abr2025.csv\n",
      "HIST_PAINEL_COVIDBR_2021_Parte2_18abr2025.csv\n",
      "HIST_PAINEL_COVIDBR_2022_Parte1_18abr2025.csv\n",
      "HIST_PAINEL_COVIDBR_2022_Parte2_18abr2025.csv\n",
      "HIST_PAINEL_COVIDBR_2023_Parte1_18abr2025.csv\n",
      "HIST_PAINEL_COVIDBR_2023_Parte2_18abr2025.csv\n",
      "HIST_PAINEL_COVIDBR_2024_Parte1_18abr2025.csv\n",
      "HIST_PAINEL_COVIDBR_2024_Parte2_18abr2025.csv\n",
      "HIST_PAINEL_COVIDBR_2025_Parte1_18abr2025.csv\n"
     ]
    },
    {
     "data": {
      "text/plain": [
       "10390399"
      ]
     },
     "execution_count": 2,
     "metadata": {},
     "output_type": "execute_result"
    }
   ],
   "source": [
    "import pandas as pd\n",
    "from pathlib import Path\n",
    "\n",
    "df = pd.DataFrame()\n",
    "\n",
    "directory_path = Path(f'{PASTA}/raw')\n",
    "files = [f for f in directory_path.iterdir() if f.is_file() and f.name != \".gitkeep\"]\n",
    "\n",
    "for file in files:\n",
    "    print(file.name)\n",
    "    aux_df = pd.read_csv(f\"{directory_path}/{file.name}\", sep=';')\n",
    "    df = pd.concat([df, aux_df])\n",
    "\n",
    "len(df)"
   ]
  },
  {
   "cell_type": "code",
   "execution_count": 3,
   "id": "a02835ab",
   "metadata": {},
   "outputs": [],
   "source": [
    "df.to_parquet(f'{PASTA}/0.raw.parquet', index=False)"
   ]
  }
 ],
 "metadata": {
  "kernelspec": {
   "display_name": "env",
   "language": "python",
   "name": "python3"
  },
  "language_info": {
   "codemirror_mode": {
    "name": "ipython",
    "version": 3
   },
   "file_extension": ".py",
   "mimetype": "text/x-python",
   "name": "python",
   "nbconvert_exporter": "python",
   "pygments_lexer": "ipython3",
   "version": "3.11.9"
  }
 },
 "nbformat": 4,
 "nbformat_minor": 5
}
